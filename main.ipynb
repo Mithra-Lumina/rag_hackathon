{
 "cells": [
  {
   "cell_type": "code",
   "execution_count": 70,
   "id": "27690643",
   "metadata": {},
   "outputs": [],
   "source": [
    "# import os, getpass\n",
    "import chromadb\n",
    "from ibm_watsonx_ai import Credentials, APIClient\n",
    "from langchain_chroma import Chroma\n",
    "from langchain_core.documents import Document\n",
    "from uuid import uuid4\n",
    "from langchain_text_splitters import MarkdownTextSplitter\n",
    "from langchain_community.document_loaders import TextLoader\n",
    "from langchain_ibm import WatsonxEmbeddings\n",
    "from ibm_watsonx_ai.foundation_models.utils.enums import ModelTypes\n",
    "from ibm_watsonx_ai.metanames import GenTextParamsMetaNames as GenParams\n",
    "from ibm_watsonx_ai.foundation_models.utils.enums import DecodingMethods\n",
    "from langchain_ibm import ChatWatsonx, WatsonxLLM\n",
    "# from langchain.chains import RetrievalQAjin\n",
    "from langchain_ibm import WatsonxEmbeddings\n",
    "from ibm_watsonx_ai.foundation_models.schema import TextChatParameters\n",
    "from langchain_experimental.text_splitter import SemanticChunker\n",
    "from langchain_huggingface import HuggingFaceEmbeddings\n",
    "from transformers import AutoTokenizer\n",
    "from docling.document_converter import DocumentConverter\n",
    "from utils import *\n",
    "PAGE_BREAK = \"<!-- page break -->\""
   ]
  },
  {
   "cell_type": "code",
   "execution_count": 2,
   "id": "a9994a8f",
   "metadata": {},
   "outputs": [],
   "source": [
    "api_key=\"VPryyL4t508YQ_pJQNCU0m23Yctctahrqo2pjT5BMQkV\"\n",
    "url=\"https://us-south.ml.cloud.ibm.com\"\n",
    "project_id = \"6552c3bb-a35a-4bf3-8430-c42828d59a06\""
   ]
  },
  {
   "cell_type": "markdown",
   "id": "ff9351d5",
   "metadata": {},
   "source": [
    "## Load documents"
   ]
  },
  {
   "cell_type": "code",
   "execution_count": null,
   "id": "c1ba22f1",
   "metadata": {},
   "outputs": [
    {
     "name": "stderr",
     "output_type": "stream",
     "text": [
      "/opt/homebrew/Caskroom/miniconda/base/envs/ibm/lib/python3.12/site-packages/torch/utils/data/dataloader.py:683: UserWarning: 'pin_memory' argument is set as true but not supported on MPS now, then device pinned memory won't be used.\n",
      "  warnings.warn(warn_msg)\n",
      "/opt/homebrew/Caskroom/miniconda/base/envs/ibm/lib/python3.12/site-packages/numpy/_core/fromnumeric.py:3860: RuntimeWarning: Mean of empty slice.\n",
      "  return _methods._mean(a, axis=axis, dtype=dtype,\n",
      "/opt/homebrew/Caskroom/miniconda/base/envs/ibm/lib/python3.12/site-packages/numpy/_core/_methods.py:145: RuntimeWarning: invalid value encountered in scalar divide\n",
      "  ret = ret.dtype.type(ret / rcount)\n",
      "/opt/homebrew/Caskroom/miniconda/base/envs/ibm/lib/python3.12/site-packages/docling/pipeline/standard_pdf_pipeline.py:262: RuntimeWarning: Mean of empty slice\n",
      "  np.nanmean(\n"
     ]
    }
   ],
   "source": [
    "file_path = \"data/climate_edu/389801eng.pdf\"\n",
    "converter = DocumentConverter()\n",
    "result = converter.convert(file_path)\n",
    "doc = result.document\n",
    "doc_name = doc.name"
   ]
  },
  {
   "cell_type": "code",
   "execution_count": null,
   "id": "cc0b2175",
   "metadata": {},
   "outputs": [],
   "source": [
    "doc_md = doc.export_to_markdown(page_break_placeholder=PAGE_BREAK, image_placeholder=\"\",)\n",
    "with open(\"data/climate_edu/389801eng.md\", \"w\") as f:\n",
    "    f.write(doc_md)\n",
    "\n",
    "pages = doc_md.split(PAGE_BREAK)\n",
    "pages = [markdown_cleanup(page) for page in pages]"
   ]
  },
  {
   "cell_type": "markdown",
   "id": "8507380b",
   "metadata": {},
   "source": [
    "## Chunk"
   ]
  },
  {
   "cell_type": "code",
   "execution_count": null,
   "id": "0c61028e",
   "metadata": {},
   "outputs": [],
   "source": [
    "tokenizer = AutoTokenizer.from_pretrained(\n",
    "    \"ibm-granite/granite-embedding-278m-multilingual\"\n",
    ")\n",
    "max_length = tokenizer.model_max_length\n",
    "chunk_overlap_length = int(max_length / 10)\n",
    "chunk_size_length = max_length - chunk_overlap_length\n",
    "markdown_splitter = MarkdownTextSplitter.from_huggingface_tokenizer(\n",
    "    tokenizer=tokenizer,\n",
    "    chunk_size=chunk_size_length,\n",
    "    chunk_overlap=chunk_overlap_length\n",
    ")"
   ]
  },
  {
   "cell_type": "code",
   "execution_count": 27,
   "id": "b05e5869",
   "metadata": {},
   "outputs": [
    {
     "name": "stderr",
     "output_type": "stream",
     "text": [
      "Token indices sequence length is longer than the specified maximum sequence length for this model (535 > 512). Running this sequence through the model will result in indexing errors\n"
     ]
    }
   ],
   "source": [
    "chunked_docs = []\n",
    "for i, page in enumerate(pages):\n",
    "    chunks = markdown_splitter.split_text(page)\n",
    "    for j, chunk in enumerate(chunks):\n",
    "        document = Document(\n",
    "            page_content=chunk,\n",
    "            embeddings=tokenizer.encode(chunk, add_special_tokens=False),\n",
    "            metadata={\n",
    "                \"source\": doc_name,\n",
    "                \"page\": i + 1,\n",
    "                \"chunk\": j + 1\n",
    "            }\n",
    "        )\n",
    "        chunked_docs.append(document)"
   ]
  },
  {
   "cell_type": "markdown",
   "id": "552b73eb",
   "metadata": {},
   "source": [
    "## Ingest"
   ]
  },
  {
   "cell_type": "code",
   "execution_count": 28,
   "id": "96bab72e",
   "metadata": {},
   "outputs": [],
   "source": [
    "embedder = WatsonxEmbeddings(\n",
    "    url=url,\n",
    "    apikey=api_key,\n",
    "    project_id=project_id,\n",
    "    model_id=\"ibm/granite-embedding-278m-multilingual\"\n",
    ")"
   ]
  },
  {
   "cell_type": "code",
   "execution_count": 29,
   "id": "8de3ef64",
   "metadata": {},
   "outputs": [],
   "source": [
    "vector_store = Chroma(\n",
    "    collection_name=\"climate_edu\",\n",
    "    persist_directory=\"data/chroma_db\",\n",
    "    embedding_function=embedder\n",
    ")"
   ]
  },
  {
   "cell_type": "code",
   "execution_count": 30,
   "id": "b2c3d2f5",
   "metadata": {},
   "outputs": [
    {
     "data": {
      "text/plain": [
       "['052cd4dc-fa55-4383-a44c-df3e2756754b',\n",
       " 'f1fbab8c-9046-4648-bb3d-b8be15a6ca98',\n",
       " 'e0a00b7b-cfd8-4493-b70c-232fe4f46afb',\n",
       " 'f5bf98df-7297-446d-924e-ab09649f0818',\n",
       " '9f95410e-98d6-4d85-9949-a0698094d611',\n",
       " '1b6182c2-8a7e-45a3-bae7-0f2d8bfd0ba4',\n",
       " 'b076f5fd-a9d9-424e-8105-f2391756e36a',\n",
       " '08cfc9e7-249a-40b2-af5c-768b563bcc25',\n",
       " 'fe6fc973-d90a-4307-8bd4-9435f963a515',\n",
       " '63ea5eb5-c1d6-4bbb-a1af-f89f138f4ecd',\n",
       " '9727803f-508d-476e-9717-3539e378fd65',\n",
       " '89120ba5-810b-45fd-b4ab-da31874c94ba',\n",
       " '5ee01814-92c8-4691-959d-fffc72c7f1d3',\n",
       " '978c1b1a-bc69-480b-b29d-25e0715124b5',\n",
       " 'b210104b-9875-4f9c-ac0f-06d40709e356',\n",
       " 'feb06858-a7ca-4dc5-bf82-9717f3692809',\n",
       " '97790c36-ebe3-4bdb-bcde-2f9d06cd29fa',\n",
       " 'c2681a89-0e71-401a-bd2f-a03a1d087f5a',\n",
       " '653807c6-09e0-407c-badf-cb1d7beb1e58',\n",
       " '5bc25cfb-b48a-4493-9e4c-05f2d5e47603',\n",
       " 'c8184681-3541-4bc4-a8c8-7c32319ec7dc',\n",
       " '1927c738-4375-425e-97e3-c88ccc7b2059',\n",
       " 'cdf34aac-fc2a-4ee1-8e78-50bf975f2963',\n",
       " 'f1131b6c-eceb-496c-93cf-b62af9b4c1ce',\n",
       " 'fd4f6fe1-04a2-43d2-9e68-0d9149b6df63',\n",
       " '36533d06-989c-4b68-8c2a-9826204500af',\n",
       " 'c51dac2a-8d76-4b02-a28b-2fa181b1c013',\n",
       " '281874d7-c3fa-4ecc-bec3-f9312639ec0e',\n",
       " 'bd118e74-d8db-4944-8e80-44592056cef9',\n",
       " 'a550cdd7-1c82-4543-a186-e7d9fe4b5a16',\n",
       " '22866408-675f-4958-83d5-222e514cf65e',\n",
       " '8b64fe9f-3057-400d-8612-c91321eea76f',\n",
       " '2cfd62dc-5347-4395-a166-195a5bf69257',\n",
       " '9c8a59cd-ab8b-4b94-8ba2-bad5eb83412c',\n",
       " 'a56d6062-1f50-4ec0-ae9a-b8492c55d2bc',\n",
       " 'f50f09df-4a16-4088-9631-6a569494b823',\n",
       " 'aaa38c6a-028f-4c15-aa63-d17a5cef5678',\n",
       " '9a0cfd19-715d-475b-befc-c1c205f46f9b',\n",
       " '8eb62c8e-ad86-4542-814e-334dda4aac47',\n",
       " '33ecc420-f424-401c-bbf2-459c553efc69',\n",
       " '1f186a13-ef4a-4783-893f-dcb22e222e17',\n",
       " '86f29449-3d00-44e8-b801-fe90bae90d7e',\n",
       " '9838bb5e-44a5-44dd-9e8c-a1ef3074777b',\n",
       " '8ea6dfdf-e3c5-4731-882e-0fbcc9e5f9ce',\n",
       " '57f174c7-0a6d-4360-bf7a-438629130908',\n",
       " '4a72719d-38f0-41ed-8bdd-a2723797a456',\n",
       " 'a780421d-4801-4d7d-8291-f63b9af6c76a',\n",
       " '1dfe3f70-7397-444f-8e79-8eca4861513a',\n",
       " '59e0e389-0c04-479c-8f72-3c9f312c02e1',\n",
       " '37dae27b-280a-4772-8e94-c154f3337082',\n",
       " '45c3b5b5-a10e-4675-b308-500365d3ec90',\n",
       " 'b58092d4-4ae6-4ccf-8331-27d04d3b083e',\n",
       " '5162cb49-1cc7-4b3e-a660-1db9d84e4f3d',\n",
       " 'f5123311-5f31-48e2-a429-04ada8c21488',\n",
       " 'a8138103-e1d5-4551-b22e-dee0a131ce51',\n",
       " 'b245c4e4-c631-408d-9195-70c7164a2367',\n",
       " 'ce3ea8c8-a781-46cb-a9cb-7f0ac85b35d0',\n",
       " '371a0c0e-3b29-467b-9239-222fad985771',\n",
       " '679d47b3-3503-4295-9b8c-5f48abff7141',\n",
       " '8b72c080-f4ae-4456-814c-01d45886babc',\n",
       " 'ab54beb8-93fe-4eb2-ba8c-759f7ba08ea8',\n",
       " 'ff0ac2b5-4090-4f6a-8b27-11587e5bcdf0',\n",
       " 'ba43b281-3b51-43f7-a067-9961de7d82a9',\n",
       " '43ce1578-52e8-4a35-a19d-ce16b83747f9',\n",
       " 'e9ea921a-951e-49fa-8fd6-bbbc4cb4aea7',\n",
       " 'dcf7c396-cbe0-433d-a9fb-f9b5908a1328',\n",
       " 'c1d078a1-1089-4cab-8097-df67f574b197',\n",
       " 'eb2f4231-5dea-4801-a986-8b91a2f152f1',\n",
       " '2a5c3b7c-039b-4747-a8b3-b52242eddf6d',\n",
       " '480dec92-6f7c-4435-b13f-536db2169111',\n",
       " '106409a0-7838-419f-8710-4a72d262de5f',\n",
       " '783bd5e1-b749-4b60-8fbf-bc313dbaef85',\n",
       " 'b561f090-28e9-41f3-9917-729f122a9197',\n",
       " 'af25b87d-4509-462c-9e7c-00198a4c246f',\n",
       " '75898f11-5e4a-44a8-a952-ba5b6e2d78b9',\n",
       " '494ace3e-3df2-4455-8b70-089917b31c63',\n",
       " '219b3350-a27e-4b65-8a00-598a6be83b92',\n",
       " '10a28d50-d4fb-488f-a974-f7530b6fe0a8',\n",
       " '392cd73f-5a70-4e2e-9bce-3d79662afa69',\n",
       " 'b420d001-3561-45f4-9d4c-be3da3f0cebb',\n",
       " '67012bb9-137d-4bb7-8a56-74fe7292b792',\n",
       " 'cc96b564-3b47-484a-a20f-9d2acc5b453e',\n",
       " '0bfb5872-0d1f-45f3-ac28-0b08b3423ca1',\n",
       " '988c5c4d-8f22-4175-80cc-ade192298755',\n",
       " 'c626c93c-2f03-41f6-9aea-9aae4d1bf38f',\n",
       " '5ee6296c-6346-40a4-8483-829a798782d1',\n",
       " '0e846c4d-7edf-4331-b1fc-67d9b24cb687',\n",
       " 'b553bc88-1d5b-41a1-9503-2241b96e958b',\n",
       " 'c200f228-c291-4c88-84fb-21f420d8f72c',\n",
       " '6b7e987e-317c-4943-9290-74db86f1c843',\n",
       " '8e099cfd-28e1-4554-8eca-d58f3042cd9f',\n",
       " 'e5cbca81-c9cb-421b-a305-dc34e667cd2b',\n",
       " 'ae097efc-6359-4dae-b1a2-666b8386c60d',\n",
       " '7edde51d-616c-41cf-9b62-f8e74c76cb9e',\n",
       " 'd25b8f43-84d3-409a-b9f6-084d2d6ab719',\n",
       " '1f7f145e-a65e-4a5a-ba81-66e6cbd71c13',\n",
       " '1cb480d0-c5ec-491d-93d3-21cee7d7b1e8',\n",
       " '5fafb5b1-39cf-446b-bbe1-2e89fcf1247f']"
      ]
     },
     "execution_count": 30,
     "metadata": {},
     "output_type": "execute_result"
    }
   ],
   "source": [
    "vector_store.add_documents(chunked_docs)"
   ]
  },
  {
   "cell_type": "markdown",
   "id": "2148cd35",
   "metadata": {},
   "source": [
    "## Retrieval"
   ]
  },
  {
   "cell_type": "code",
   "execution_count": 31,
   "id": "1fff87cc",
   "metadata": {},
   "outputs": [],
   "source": [
    "user_query = \"What could be done by a single person to help mitigate climate change?\""
   ]
  },
  {
   "cell_type": "code",
   "execution_count": 32,
   "id": "25c1fd06",
   "metadata": {},
   "outputs": [],
   "source": [
    "retriever = vector_store.similarity_search(\n",
    "    user_query,\n",
    "    k=2,\n",
    ")"
   ]
  },
  {
   "cell_type": "code",
   "execution_count": null,
   "id": "cea2f233",
   "metadata": {},
   "outputs": [
    {
     "name": "stdout",
     "output_type": "stream",
     "text": [
      "Retrieved Documents:\n",
      "Document 1:\n",
      "## Education or knowledge is only one aspect of motivating behaviour change\n",
      "In 2022, the Intergovernmental Panel for Climate Change concluded that behavioural interventions could increase the efficacy of subsidies and taxes. In their recommendations on decarbonization, the Science Academies of G7 countries urged governments to strengthen climate literacy and citizen involvement and to promote behaviour-oriented science to support transformative social innovations and increase support for technologies, policies and routines for carbon-neutral lifestyles (Jenny and Betsch, 2022).\n",
      "A review of 10 meta-analyses on climate change mitigation field-based interventions found that the 6 intervention categories (education, feedback, commitment, appeals, financial incentives and social comparison) were generally effective in motivating climate action. Interventions based on social comparisons and financial incentives were the most effective, while those based on education and feedback were the least effective (Bergquist et al., 2023). While education is needed to make the public aware of a problem, it may not be effective at changing behaviours without additional interventions that include social-emotional and action components.\n",
      "Climate change communication and education is most effective in motivating action when framed in the language, values and priorities of communities (Callison, 2020). Message framing strategies are needed to prompt action among those who believe in climate change and those who do not, especially if they are strongly swayed by political ideology (Badullovich et al., 2020). Climate messages that appeal to free market beliefs, security or patriotism; emphasize the near universalization of the climate scientist consensus; and use tools to enable adults to tackle misinformation are better suited to win over those resistant to action. Messaging based on hope to maintain urgency and emphasizing social norms of environment-protecting behaviour are strategies that can motivate action among climate change believers (Hornsey and Fielding, 2020).\n",
      "Document 2:\n",
      "## Education or knowledge is only one aspect of motivating behaviour change\n",
      "In 2022, the Intergovernmental Panel for Climate Change concluded that behavioural interventions could increase the efficacy of subsidies and taxes. In their recommendations on decarbonization, the Science Academies of G7 countries urged governments to strengthen climate literacy and citizen involvement and to promote behaviour-oriented science to support transformative social innovations and increase support for technologies, policies and routines for carbon-neutral lifestyles (Jenny and Betsch, 2022).\n",
      "A review of 10 meta-analyses on climate change mitigation field-based interventions found that the 6 intervention categories (education, feedback, commitment, appeals, financial incentives and social comparison) were generally effective in motivating climate action. Interventions based on social comparisons and financial incentives were the most effective, while those based on education and feedback were the least effective (Bergquist et al., 2023). While education is needed to make the public aware of a problem, it may not be effective at changing behaviours without additional interventions that include social-emotional and action components.\n",
      "\n"
     ]
    }
   ],
   "source": [
    "retriever_docs = [doc.page_content for doc in retriever]\n",
    "print(\"Retrieved Documents:\")\n",
    "answer = \"\"\n",
    "for i, doc in enumerate(retriever_docs):\n",
    "    answer += f\"Document {i + 1}:\\n{doc}\\n\""
   ]
  },
  {
   "cell_type": "markdown",
   "id": "99f9e35c",
   "metadata": {},
   "source": [
    "## Augmentation"
   ]
  },
  {
   "cell_type": "code",
   "execution_count": 48,
   "id": "458474b6",
   "metadata": {},
   "outputs": [],
   "source": [
    "prompt_template = f\"\"\"<|begin_of_text|><|header_start|>system<|header_end|>\n",
    "You are a teacher who provide information on climate change, its impacts, and actions individuals can take to mitigate it. Use the provided context to answer each user question as accurately and briefly as possible. If the context does not contain the answer, respond with: \"Sorry, I cannot assist you.\"\n",
    "Answer the queries with the same user's input language no matter the context's language.\n",
    "Always answer in markdown format, using bullet points for lists and bold for important facts. If the context is not sufficient to answer the question, politely inform the user that you cannot assist them.\n",
    "Keep the the answers like you are teaching and add a little interaction to the answer, like asking a question or giving a suggestion to the user.\n",
    "Example of a good answer:\n",
    "Here are some actions a single person can take to help mitigate climate change:\n",
    "    1. Reduce energy consumption by using energy-efficient appliances and turning off lights when not in use.\n",
    "    2. Use public transportation, carpool, bike, or walk instead of driving alone.\n",
    "    3. Reduce, reuse, and recycle to minimize waste.\n",
    "    4. Support renewable energy sources like solar or wind power.\n",
    "I hope these suggestions help you contribute to a more sustainable future! What actions do you think you can take to help mitigate climate change?\n",
    "Context is provided below. Use it to answer the user's question. If the context does not contain the answer, respond with: \"Sorry, I cannot assist you.\"\n",
    "Context:\n",
    "{answer}<|eot|>\n",
    "<|header_start|>user<|header_end|>\n",
    "\n",
    "{user_query}<|eot|>\n",
    "<|header_start|>assistant<|header_end|>\n",
    "\"\"\""
   ]
  },
  {
   "cell_type": "code",
   "execution_count": 49,
   "id": "ba3bdd80",
   "metadata": {},
   "outputs": [
    {
     "name": "stdout",
     "output_type": "stream",
     "text": [
      "<|begin_of_text|><|header_start|>system<|header_end|>\n",
      "You are a teacher who provide information on climate change, its impacts, and actions individuals can take to mitigate it. Use the provided context to answer each user question as accurately and briefly as possible. If the context does not contain the answer, respond with: \"Sorry, I cannot assist you.\"\n",
      "Answer the queries with the same user's input language no matter the context's language.\n",
      "Always answer in markdown format, using bullet points for lists and bold for important facts. If the context is not sufficient to answer the question, politely inform the user that you cannot assist them.\n",
      "Keep the the answers like you are teaching and add a little interaction to the answer, like asking a question or giving a suggestion to the user.\n",
      "Example of a good answer:\n",
      "Here are some actions a single person can take to help mitigate climate change:\n",
      "    1. Reduce energy consumption by using energy-efficient appliances and turning off lights when not in use.\n",
      "    2. Use public transportation, carpool, bike, or walk instead of driving alone.\n",
      "    3. Reduce, reuse, and recycle to minimize waste.\n",
      "    4. Support renewable energy sources like solar or wind power.\n",
      "I hope these suggestions help you contribute to a more sustainable future! What actions do you think you can take to help mitigate climate change?\n",
      "Context is provided below. Use it to answer the user's question. If the context does not contain the answer, respond with: \"Sorry, I cannot assist you.\"\n",
      "Context:\n",
      "Document 1:\n",
      "## Education or knowledge is only one aspect of motivating behaviour change\n",
      "In 2022, the Intergovernmental Panel for Climate Change concluded that behavioural interventions could increase the efficacy of subsidies and taxes. In their recommendations on decarbonization, the Science Academies of G7 countries urged governments to strengthen climate literacy and citizen involvement and to promote behaviour-oriented science to support transformative social innovations and increase support for technologies, policies and routines for carbon-neutral lifestyles (Jenny and Betsch, 2022).\n",
      "A review of 10 meta-analyses on climate change mitigation field-based interventions found that the 6 intervention categories (education, feedback, commitment, appeals, financial incentives and social comparison) were generally effective in motivating climate action. Interventions based on social comparisons and financial incentives were the most effective, while those based on education and feedback were the least effective (Bergquist et al., 2023). While education is needed to make the public aware of a problem, it may not be effective at changing behaviours without additional interventions that include social-emotional and action components.\n",
      "Climate change communication and education is most effective in motivating action when framed in the language, values and priorities of communities (Callison, 2020). Message framing strategies are needed to prompt action among those who believe in climate change and those who do not, especially if they are strongly swayed by political ideology (Badullovich et al., 2020). Climate messages that appeal to free market beliefs, security or patriotism; emphasize the near universalization of the climate scientist consensus; and use tools to enable adults to tackle misinformation are better suited to win over those resistant to action. Messaging based on hope to maintain urgency and emphasizing social norms of environment-protecting behaviour are strategies that can motivate action among climate change believers (Hornsey and Fielding, 2020).\n",
      "Document 2:\n",
      "## Education or knowledge is only one aspect of motivating behaviour change\n",
      "In 2022, the Intergovernmental Panel for Climate Change concluded that behavioural interventions could increase the efficacy of subsidies and taxes. In their recommendations on decarbonization, the Science Academies of G7 countries urged governments to strengthen climate literacy and citizen involvement and to promote behaviour-oriented science to support transformative social innovations and increase support for technologies, policies and routines for carbon-neutral lifestyles (Jenny and Betsch, 2022).\n",
      "A review of 10 meta-analyses on climate change mitigation field-based interventions found that the 6 intervention categories (education, feedback, commitment, appeals, financial incentives and social comparison) were generally effective in motivating climate action. Interventions based on social comparisons and financial incentives were the most effective, while those based on education and feedback were the least effective (Bergquist et al., 2023). While education is needed to make the public aware of a problem, it may not be effective at changing behaviours without additional interventions that include social-emotional and action components.\n",
      "<|eot|>\n",
      "<|header_start|>user<|header_end|>\n",
      "\n",
      "What could be done by a single person to help mitigate climate change?<|eot|>\n",
      "<|header_start|>assistant<|header_end|>\n",
      "\n"
     ]
    }
   ],
   "source": [
    "print(prompt_template)"
   ]
  },
  {
   "cell_type": "code",
   "execution_count": null,
   "id": "d08eff57",
   "metadata": {},
   "outputs": [],
   "source": [
    "model_id = \"meta-llama/llama-4-maverick-17b-128e-instruct-fp8\"\n",
    "parameters = {\"max_new_tokens\": 1024, \"decoding_method\": \"greedy\"}\n",
    "watsonx_llm = WatsonxLLM(\n",
    "    model_id=model_id,\n",
    "    url=url,\n",
    "    apikey=api_key,\n",
    "    project_id=project_id,\n",
    "    params=parameters\n",
    ")"
   ]
  },
  {
   "cell_type": "code",
   "execution_count": null,
   "id": "c236e4aa",
   "metadata": {},
   "outputs": [],
   "source": [
    "\n",
    "out = watsonx_llm.invoke(prompt_template)"
   ]
  },
  {
   "cell_type": "code",
   "execution_count": 72,
   "id": "e6d02a9d",
   "metadata": {},
   "outputs": [
    {
     "name": "stdout",
     "output_type": "stream",
     "text": [
      "## Individual Actions to Mitigate Climate Change\n",
      "While the context focuses on broader interventions and strategies, we can still infer some actions a single person can take. Here are a few suggestions based on the information provided:\n",
      "* **Understand the importance of social comparisons**: Knowing how your actions compare to others can motivate you to change. For example, seeing that your neighbors are reducing their energy consumption might encourage you to do the same.\n",
      "* **Take advantage of financial incentives**: Many governments and companies offer incentives for behaviors like using renewable energy or reducing waste. Look for these opportunities in your area.\n",
      "* **Get involved in your community**: Strengthening climate literacy and citizen involvement can support broader social innovations. Consider participating in local climate initiatives or discussions.\n",
      "* **Make informed choices**: Educate yourself on climate change, but also be aware that knowledge alone may not lead to action. Look for opportunities to apply what you learn into tangible actions.\n",
      "\n",
      "To effectively mitigate climate change, it's crucial to go beyond just education. What are some actions you're already taking or considering to help mitigate climate change?\n"
     ]
    }
   ],
   "source": [
    "print(out)"
   ]
  },
  {
   "cell_type": "code",
   "execution_count": 71,
   "id": "a2eb7d57",
   "metadata": {},
   "outputs": [],
   "source": [
    "# Save the output to a markdown file\n",
    "with open(\"data/climate_edu/output.md\", \"w\") as f:\n",
    "    f.write(out)"
   ]
  }
 ],
 "metadata": {
  "kernelspec": {
   "display_name": "ibm",
   "language": "python",
   "name": "python3"
  },
  "language_info": {
   "codemirror_mode": {
    "name": "ipython",
    "version": 3
   },
   "file_extension": ".py",
   "mimetype": "text/x-python",
   "name": "python",
   "nbconvert_exporter": "python",
   "pygments_lexer": "ipython3",
   "version": "3.12.0"
  }
 },
 "nbformat": 4,
 "nbformat_minor": 5
}
