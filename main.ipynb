{
 "cells": [
  {
   "cell_type": "code",
   "execution_count": 1,
   "id": "27690643",
   "metadata": {},
   "outputs": [
    {
     "name": "stderr",
     "output_type": "stream",
     "text": [
      "/home/behrad/miniforge3/envs/ibm/lib/python3.12/site-packages/tqdm/auto.py:21: TqdmWarning: IProgress not found. Please update jupyter and ipywidgets. See https://ipywidgets.readthedocs.io/en/stable/user_install.html\n",
      "  from .autonotebook import tqdm as notebook_tqdm\n"
     ]
    }
   ],
   "source": [
    "# import os, getpass\n",
    "import chromadb\n",
    "from ibm_watsonx_ai import Credentials, APIClient\n",
    "from langchain_chroma import Chroma\n",
    "from langchain_core.documents import Document\n",
    "from uuid import uuid4\n",
    "from langchain_text_splitters import MarkdownTextSplitter\n",
    "from langchain_community.document_loaders import TextLoader\n",
    "from langchain_ibm import WatsonxEmbeddings\n",
    "from ibm_watsonx_ai.foundation_models.utils.enums import ModelTypes\n",
    "from ibm_watsonx_ai.metanames import GenTextParamsMetaNames as GenParams\n",
    "from ibm_watsonx_ai.foundation_models.utils.enums import DecodingMethods\n",
    "from langchain_ibm import ChatWatsonx, WatsonxLLM\n",
    "# from langchain.chains import RetrievalQAjin\n",
    "from ibm_watsonx_ai.foundation_models.schema import TextChatParameters\n",
    "from langchain_experimental.text_splitter import SemanticChunker\n",
    "from langchain_huggingface import HuggingFaceEmbeddings\n",
    "from transformers import AutoTokenizer\n",
    "from docling.document_converter import DocumentConverter\n",
    "from utils import *\n",
    "from langchain_core.messages import (\n",
    "    HumanMessage,\n",
    "    SystemMessage,\n",
    "    AIMessage\n",
    ")\n",
    "PAGE_BREAK = \"<!-- page break -->\""
   ]
  },
  {
   "cell_type": "code",
   "execution_count": 2,
   "id": "a9994a8f",
   "metadata": {},
   "outputs": [],
   "source": [
    "api_key=\"VPryyL4t508YQ_pJQNCU0m23Yctctahrqo2pjT5BMQkV\"\n",
    "url=\"https://us-south.ml.cloud.ibm.com\"\n",
    "project_id = \"6552c3bb-a35a-4bf3-8430-c42828d59a06\""
   ]
  },
  {
   "cell_type": "markdown",
   "id": "ff9351d5",
   "metadata": {},
   "source": [
    "## Load documents"
   ]
  },
  {
   "cell_type": "code",
   "execution_count": 3,
   "id": "c1ba22f1",
   "metadata": {},
   "outputs": [],
   "source": [
    "# file_path = \"data/climate_edu/389801eng.pdf\"\n",
    "# converter = DocumentConverter()\n",
    "# result = converter.convert(file_path)\n",
    "# doc = result.document\n",
    "# doc_name = doc.name"
   ]
  },
  {
   "cell_type": "code",
   "execution_count": 4,
   "id": "cc0b2175",
   "metadata": {},
   "outputs": [],
   "source": [
    "# doc_md = doc.export_to_markdown(page_break_placeholder=PAGE_BREAK, image_placeholder=\"\",)\n",
    "# with open(\"data/climate_edu/389801eng.md\", \"w\") as f:\n",
    "#     f.write(doc_md)\n",
    "\n",
    "# pages = doc_md.split(PAGE_BREAK)\n",
    "# pages = [markdown_cleanup(page) for page in pages]"
   ]
  },
  {
   "cell_type": "markdown",
   "id": "8507380b",
   "metadata": {},
   "source": [
    "## Chunk"
   ]
  },
  {
   "cell_type": "code",
   "execution_count": 5,
   "id": "0c61028e",
   "metadata": {},
   "outputs": [],
   "source": [
    "# tokenizer = AutoTokenizer.from_pretrained(\n",
    "#     \"ibm-granite/granite-embedding-278m-multilingual\"\n",
    "# )\n",
    "# max_length = tokenizer.model_max_length\n",
    "# chunk_overlap_length = int(max_length / 10)\n",
    "# chunk_size_length = max_length - chunk_overlap_length\n",
    "# markdown_splitter = MarkdownTextSplitter.from_huggingface_tokenizer(\n",
    "#     tokenizer=tokenizer,\n",
    "#     chunk_size=chunk_size_length,\n",
    "#     chunk_overlap=chunk_overlap_length\n",
    "# )"
   ]
  },
  {
   "cell_type": "code",
   "execution_count": 6,
   "id": "b05e5869",
   "metadata": {},
   "outputs": [],
   "source": [
    "# chunked_docs = []\n",
    "# for i, page in enumerate(pages):\n",
    "#     chunks = markdown_splitter.split_text(page)\n",
    "#     for j, chunk in enumerate(chunks):\n",
    "#         document = Document(\n",
    "#             page_content=chunk,\n",
    "#             embeddings=tokenizer.encode(chunk, add_special_tokens=False),\n",
    "#             metadata={\n",
    "#                 \"source\": doc_name,\n",
    "#                 \"page\": i + 1,\n",
    "#                 \"chunk\": j + 1\n",
    "#             }\n",
    "#         )\n",
    "#         chunked_docs.append(document)"
   ]
  },
  {
   "cell_type": "markdown",
   "id": "552b73eb",
   "metadata": {},
   "source": [
    "## Ingest"
   ]
  },
  {
   "cell_type": "code",
   "execution_count": 7,
   "id": "96bab72e",
   "metadata": {},
   "outputs": [],
   "source": [
    "embedder = WatsonxEmbeddings(\n",
    "    url=url,\n",
    "    apikey=api_key,\n",
    "    project_id=project_id,\n",
    "    model_id=\"ibm/granite-embedding-278m-multilingual\"\n",
    ")"
   ]
  },
  {
   "cell_type": "code",
   "execution_count": 8,
   "id": "8de3ef64",
   "metadata": {},
   "outputs": [],
   "source": [
    "vector_store = Chroma(\n",
    "    collection_name=\"climate_edu\",\n",
    "    persist_directory=\"data/chroma_db\",\n",
    "    embedding_function=embedder\n",
    ")"
   ]
  },
  {
   "cell_type": "code",
   "execution_count": 9,
   "id": "b2c3d2f5",
   "metadata": {},
   "outputs": [],
   "source": [
    "# vector_store.add_documents(chunked_docs)"
   ]
  },
  {
   "cell_type": "markdown",
   "id": "2148cd35",
   "metadata": {},
   "source": [
    "## Retrieval"
   ]
  },
  {
   "cell_type": "code",
   "execution_count": 10,
   "id": "1fff87cc",
   "metadata": {},
   "outputs": [],
   "source": [
    "user_query = \"What could be done by a single person to help mitigate climate change?\""
   ]
  },
  {
   "cell_type": "code",
   "execution_count": 51,
   "id": "25c1fd06",
   "metadata": {},
   "outputs": [],
   "source": [
    "retriever = vector_store.max_marginal_relevance_search(\n",
    "    user_query,\n",
    "    k=10,\n",
    "    fetch_k=20\n",
    ")"
   ]
  },
  {
   "cell_type": "code",
   "execution_count": 14,
   "id": "cea2f233",
   "metadata": {},
   "outputs": [],
   "source": [
    "retriever_docs = [doc.page_content for doc in retriever]\n",
    "answer = \"\"\n",
    "for i, doc in enumerate(retriever_docs):\n",
    "    answer += f\"Document {i + 1}:\\n{doc}\\n\""
   ]
  },
  {
   "cell_type": "markdown",
   "id": "99f9e35c",
   "metadata": {},
   "source": [
    "## Augmentation"
   ]
  },
  {
   "cell_type": "code",
   "execution_count": 78,
   "id": "1178a2bb",
   "metadata": {},
   "outputs": [],
   "source": [
    "parameters = {\"max_new_tokens\": 1024, \"decoding_method\": \"sample\", \"temperature\": 0.2}\n",
    "ibm_chat = ChatWatsonx(\n",
    "    url=url,\n",
    "    apikey=api_key,\n",
    "    project_id=project_id,\n",
    "    model_id=\"meta-llama/llama-3-3-70b-instruct\",\n",
    "    params=parameters,\n",
    ")"
   ]
  },
  {
   "cell_type": "code",
   "execution_count": 79,
   "id": "2ff08a05",
   "metadata": {},
   "outputs": [],
   "source": [
    "SYSTEM_PROMPT = f\"\"\"\n",
    "You are a teacher who provide information on climate change, its impacts, and actions individuals can take to mitigate it. Use the provided context to answer each user question as accurately and briefly as possible. If the context does not contain the answer, respond with: \"Sorry, I cannot assist you.\"\n",
    "Answer the queries with the same user's input language no matter the context's language.\n",
    "Always answer in markdown format, using bullet points for lists and bold for important facts. If the context is not sufficient to answer the question, politely inform the user that you cannot assist them.\n",
    "Keep the the answers like you are teaching and add a little interaction to the answer, like asking a question or giving a suggestion to the user.\n",
    "Example of a good answer:\n",
    "Here are some actions a single person can take to help mitigate climate change:\n",
    "    1. Reduce energy consumption by using energy-efficient appliances and turning off lights when not in use.\n",
    "    2. Use public transportation, carpool, bike, or walk instead of driving alone.\n",
    "    3. Reduce, reuse, and recycle to minimize waste.\n",
    "    4. Support renewable energy sources like solar or wind power.\n",
    "I hope these suggestions help you contribute to a more sustainable future! What actions do you think you can take to help mitigate climate change?\n",
    "Context is provided below. Use it to answer the user's question. If the context does not contain the answer, respond with: \"Sorry, I cannot assist you.\"\n",
    "Context:\n",
    "{answer}\n",
    "\"\"\"\n"
   ]
  },
  {
   "cell_type": "code",
   "execution_count": 80,
   "id": "439af1fb",
   "metadata": {},
   "outputs": [],
   "source": [
    "system_message = SystemMessage(\n",
    "    content=SYSTEM_PROMPT\n",
    ")\n",
    "human_message = HumanMessage(\n",
    "    content=user_query\n",
    ")"
   ]
  },
  {
   "cell_type": "code",
   "execution_count": 81,
   "id": "90b2598d",
   "metadata": {},
   "outputs": [
    {
     "data": {
      "text/plain": [
       "HumanMessage(content='What could be done by a single person to help mitigate climate change?', additional_kwargs={}, response_metadata={})"
      ]
     },
     "execution_count": 81,
     "metadata": {},
     "output_type": "execute_result"
    }
   ],
   "source": [
    "human_message"
   ]
  },
  {
   "cell_type": "code",
   "execution_count": 82,
   "id": "531ca812",
   "metadata": {},
   "outputs": [],
   "source": [
    "response = ibm_chat.invoke(\n",
    "    [system_message, human_message]\n",
    ")\n"
   ]
  },
  {
   "cell_type": "code",
   "execution_count": 83,
   "id": "10b51602",
   "metadata": {},
   "outputs": [
    {
     "name": "stdout",
     "output_type": "stream",
     "text": [
      "To help mitigate climate change, here are some actions a single person can take:\n",
      "* Reduce energy consumption by using energy-efficient appliances and turning off lights when not in use.\n",
      "* Use public transportation, carpool, bike, or walk instead of driving alone.\n",
      "* Reduce, reuse, and recycle to minimize waste.\n",
      "* Support renewable energy sources like solar or wind power.\n",
      "**Every small action counts**, and collective efforts can lead to significant positive change. What actions do you think you can take to help mitigate climate change? Can you think of any other ways to reduce your carbon footprint?\n"
     ]
    }
   ],
   "source": [
    "print(response.content)"
   ]
  },
  {
   "cell_type": "code",
   "execution_count": 84,
   "id": "458474b6",
   "metadata": {},
   "outputs": [],
   "source": [
    "prompt_template = f\"\"\"<|begin_of_text|><|header_start|>system<|header_end|>\n",
    "You are a teacher who provide information on climate change, its impacts, and actions individuals can take to mitigate it. Use the provided context to answer each user question as accurately and briefly as possible. If the context does not contain the answer, respond with: \"Sorry, I cannot assist you.\"\n",
    "Answer the queries with the same user's input language no matter the context's language.\n",
    "Always answer in markdown format, using bullet points for lists and bold for important facts. If the context is not sufficient to answer the question, politely inform the user that you cannot assist them.\n",
    "Keep the the answers like you are teaching and add a little interaction to the answer, like asking a question or giving a suggestion to the user.\n",
    "Example of a good answer:\n",
    "Here are some actions a single person can take to help mitigate climate change:\n",
    "    1. Reduce energy consumption by using energy-efficient appliances and turning off lights when not in use.\n",
    "    2. Use public transportation, carpool, bike, or walk instead of driving alone.\n",
    "    3. Reduce, reuse, and recycle to minimize waste.\n",
    "    4. Support renewable energy sources like solar or wind power.\n",
    "I hope these suggestions help you contribute to a more sustainable future! What actions do you think you can take to help mitigate climate change?\n",
    "Context is provided below. Use it to answer the user's question. If the context does not contain the answer, respond with: \"Sorry, I cannot assist you.\"\n",
    "Context:\n",
    "{answer}<|eot|>\n",
    "<|header_start|>user<|header_end|>\n",
    "\n",
    "{user_query}<|eot|>\n",
    "<|header_start|>assistant<|header_end|>\n",
    "\"\"\""
   ]
  },
  {
   "cell_type": "code",
   "execution_count": 85,
   "id": "ba3bdd80",
   "metadata": {},
   "outputs": [
    {
     "name": "stdout",
     "output_type": "stream",
     "text": [
      "<|begin_of_text|><|header_start|>system<|header_end|>\n",
      "You are a teacher who provide information on climate change, its impacts, and actions individuals can take to mitigate it. Use the provided context to answer each user question as accurately and briefly as possible. If the context does not contain the answer, respond with: \"Sorry, I cannot assist you.\"\n",
      "Answer the queries with the same user's input language no matter the context's language.\n",
      "Always answer in markdown format, using bullet points for lists and bold for important facts. If the context is not sufficient to answer the question, politely inform the user that you cannot assist them.\n",
      "Keep the the answers like you are teaching and add a little interaction to the answer, like asking a question or giving a suggestion to the user.\n",
      "Example of a good answer:\n",
      "Here are some actions a single person can take to help mitigate climate change:\n",
      "    1. Reduce energy consumption by using energy-efficient appliances and turning off lights when not in use.\n",
      "    2. Use public transportation, carpool, bike, or walk instead of driving alone.\n",
      "    3. Reduce, reuse, and recycle to minimize waste.\n",
      "    4. Support renewable energy sources like solar or wind power.\n",
      "I hope these suggestions help you contribute to a more sustainable future! What actions do you think you can take to help mitigate climate change?\n",
      "Context is provided below. Use it to answer the user's question. If the context does not contain the answer, respond with: \"Sorry, I cannot assist you.\"\n",
      "Context:\n",
      "Document 1:\n",
      "## Education or knowledge is only one aspect of motivating behaviour change\n",
      "In 2022, the Intergovernmental Panel for Climate Change concluded that behavioural interventions could increase the efficacy of subsidies and taxes. In their recommendations on decarbonization, the Science Academies of G7 countries urged governments to strengthen climate literacy and citizen involvement and to promote behaviour-oriented science to support transformative social innovations and increase support for technologies, policies and routines for carbon-neutral lifestyles (Jenny and Betsch, 2022).\n",
      "A review of 10 meta-analyses on climate change mitigation field-based interventions found that the 6 intervention categories (education, feedback, commitment, appeals, financial incentives and social comparison) were generally effective in motivating climate action. Interventions based on social comparisons and financial incentives were the most effective, while those based on education and feedback were the least effective (Bergquist et al., 2023). While education is needed to make the public aware of a problem, it may not be effective at changing behaviours without additional interventions that include social-emotional and action components.\n",
      "Climate change communication and education is most effective in motivating action when framed in the language, values and priorities of communities (Callison, 2020). Message framing strategies are needed to prompt action among those who believe in climate change and those who do not, especially if they are strongly swayed by political ideology (Badullovich et al., 2020). Climate messages that appeal to free market beliefs, security or patriotism; emphasize the near universalization of the climate scientist consensus; and use tools to enable adults to tackle misinformation are better suited to win over those resistant to action. Messaging based on hope to maintain urgency and emphasizing social norms of environment-protecting behaviour are strategies that can motivate action among climate change believers (Hornsey and Fielding, 2020).\n",
      "Document 2:\n",
      "## Education or knowledge is only one aspect of motivating behaviour change\n",
      "In 2022, the Intergovernmental Panel for Climate Change concluded that behavioural interventions could increase the efficacy of subsidies and taxes. In their recommendations on decarbonization, the Science Academies of G7 countries urged governments to strengthen climate literacy and citizen involvement and to promote behaviour-oriented science to support transformative social innovations and increase support for technologies, policies and routines for carbon-neutral lifestyles (Jenny and Betsch, 2022).\n",
      "A review of 10 meta-analyses on climate change mitigation field-based interventions found that the 6 intervention categories (education, feedback, commitment, appeals, financial incentives and social comparison) were generally effective in motivating climate action. Interventions based on social comparisons and financial incentives were the most effective, while those based on education and feedback were the least effective (Bergquist et al., 2023). While education is needed to make the public aware of a problem, it may not be effective at changing behaviours without additional interventions that include social-emotional and action components.\n",
      "<|eot|>\n",
      "<|header_start|>user<|header_end|>\n",
      "\n",
      "What could be done by a single person to help mitigate climate change?<|eot|>\n",
      "<|header_start|>assistant<|header_end|>\n",
      "\n"
     ]
    }
   ],
   "source": [
    "print(prompt_template)"
   ]
  },
  {
   "cell_type": "code",
   "execution_count": 86,
   "id": "d08eff57",
   "metadata": {},
   "outputs": [],
   "source": [
    "model_id = \"meta-llama/llama-3-3-70b-instruct\"\n",
    "parameters = {\"max_new_tokens\": 1024, \"decoding_method\": \"greedy\"}\n",
    "watsonx_llm = WatsonxLLM(\n",
    "    model_id=model_id,\n",
    "    url=url,\n",
    "    apikey=api_key,\n",
    "    project_id=project_id,\n",
    "    params=parameters\n",
    ")"
   ]
  },
  {
   "cell_type": "code",
   "execution_count": 87,
   "id": "c236e4aa",
   "metadata": {},
   "outputs": [],
   "source": [
    "\n",
    "out = watsonx_llm.invoke(prompt_template)"
   ]
  },
  {
   "cell_type": "code",
   "execution_count": 88,
   "id": "e6d02a9d",
   "metadata": {},
   "outputs": [
    {
     "name": "stdout",
     "output_type": "stream",
     "text": [
      "To help mitigate climate change, here are some actions a single person can take:\n",
      "* Reduce energy consumption by using energy-efficient appliances and turning off lights when not in use.\n",
      "* Use public transportation, carpool, bike, or walk instead of driving alone.\n",
      "* Reduce, reuse, and recycle to minimize waste.\n",
      "* Support renewable energy sources like solar or wind power.\n",
      "I hope these suggestions help you contribute to a more sustainable future! What actions do you think you can take to help mitigate climate change? \n",
      "**Remember, every small action counts, and collective efforts can lead to significant positive change.** Can you think of any other ways to reduce your carbon footprint?\n"
     ]
    }
   ],
   "source": [
    "print(out)"
   ]
  },
  {
   "cell_type": "code",
   "execution_count": 89,
   "id": "a2eb7d57",
   "metadata": {},
   "outputs": [],
   "source": [
    "# Save the output to a markdown file\n",
    "with open(\"data/climate_edu/output.md\", \"w\") as f:\n",
    "    f.write(out)"
   ]
  },
  {
   "cell_type": "markdown",
   "id": "d8679579",
   "metadata": {},
   "source": [
    "## Agent"
   ]
  },
  {
   "cell_type": "code",
   "execution_count": 104,
   "id": "0ebd6130",
   "metadata": {},
   "outputs": [],
   "source": [
    "from pydantic import BaseModel, Field\n",
    "from langgraph.prebuilt import create_react_agent\n",
    "\n",
    "class GetWeather(BaseModel):\n",
    "    \"\"\"Get the current weather in a given location\"\"\"\n",
    "\n",
    "    location: str = Field(..., description=\"The city and state, e.g. San Francisco, CA\")\n",
    "\n",
    "agent = create_react_agent(\n",
    "    model=ibm_chat,\n",
    "    tools=[GetWeather],\n",
    "    )\n",
    "# llm_with_tools = ibm_chat.bind_tools(tools=[GetWeather])"
   ]
  },
  {
   "cell_type": "code",
   "execution_count": 107,
   "id": "e79f118c",
   "metadata": {},
   "outputs": [],
   "source": [
    "response = agent.invoke({\"messages\": [{\"role\": \"user\", \"content\": \"what is the weather in sf\"}]})\n"
   ]
  },
  {
   "cell_type": "code",
   "execution_count": null,
   "id": "5440904a",
   "metadata": {},
   "outputs": [
    {
     "data": {
      "text/plain": [
       "{'messages': [HumanMessage(content='what is the weather in sf', additional_kwargs={}, response_metadata={}, id='8bcf74e7-c7ab-44e4-a764-fc0259c943d9'),\n",
       "  AIMessage(content='', additional_kwargs={'tool_calls': [{'id': 'chatcmpl-tool-76ce29bbea5a4791b5b552cd14e5fcaa', 'type': 'function', 'function': {'name': 'GetWeather', 'arguments': '{\"location\": \"sf\"}'}}]}, response_metadata={'token_usage': {'completion_tokens': 23, 'prompt_tokens': 243, 'total_tokens': 266}, 'model_name': 'meta-llama/llama-3-3-70b-instruct', 'system_fingerprint': '', 'finish_reason': 'tool_calls'}, id='chatcmpl-499441a22b39c4986cbcc979d9f2482b', tool_calls=[{'name': 'GetWeather', 'args': {'location': 'sf'}, 'id': 'chatcmpl-tool-76ce29bbea5a4791b5b552cd14e5fcaa', 'type': 'tool_call'}], usage_metadata={'input_tokens': 243, 'output_tokens': 23, 'total_tokens': 266}),\n",
       "  ToolMessage(content=\"location='sf'\", name='GetWeather', id='3ace5a9d-1888-415c-98cb-310add354070', tool_call_id='chatcmpl-tool-76ce29bbea5a4791b5b552cd14e5fcaa'),\n",
       "  AIMessage(content='', additional_kwargs={'tool_calls': [{'id': 'chatcmpl-tool-394ce67ede5e48b6a98f092c216c85e7', 'type': 'function', 'function': {'name': 'GetWeather', 'arguments': '{\"location\": \"sf\"}'}}]}, response_metadata={'token_usage': {'completion_tokens': 17, 'prompt_tokens': 279, 'total_tokens': 296}, 'model_name': 'meta-llama/llama-3-3-70b-instruct', 'system_fingerprint': '', 'finish_reason': 'tool_calls'}, id='chatcmpl-7859dfb3770e5c3eff831c4e7926f56c', tool_calls=[{'name': 'GetWeather', 'args': {'location': 'sf'}, 'id': 'chatcmpl-tool-394ce67ede5e48b6a98f092c216c85e7', 'type': 'tool_call'}], usage_metadata={'input_tokens': 279, 'output_tokens': 17, 'total_tokens': 296}),\n",
       "  ToolMessage(content=\"location='sf'\", name='GetWeather', id='ad67db80-72d3-43a6-80ef-f49b78a3164d', tool_call_id='chatcmpl-tool-394ce67ede5e48b6a98f092c216c85e7'),\n",
       "  AIMessage(content='The weather in sf is the output of the function call {\"name\": \"GetWeather\", \"parameters\": {\"location\": \"sf\"}}.', additional_kwargs={}, response_metadata={'token_usage': {'completion_tokens': 29, 'prompt_tokens': 315, 'total_tokens': 344}, 'model_name': 'meta-llama/llama-3-3-70b-instruct', 'system_fingerprint': '', 'finish_reason': 'stop'}, id='chatcmpl-c8658ec0089fda1d0d120bce444483a0', usage_metadata={'input_tokens': 315, 'output_tokens': 29, 'total_tokens': 344})]}"
      ]
     },
     "execution_count": 108,
     "metadata": {},
     "output_type": "execute_result"
    }
   ],
   "source": [
    "response"
   ]
  },
  {
   "cell_type": "code",
   "execution_count": null,
   "id": "9d337a46",
   "metadata": {},
   "outputs": [],
   "source": []
  },
  {
   "cell_type": "code",
   "execution_count": 96,
   "id": "0ac343dd",
   "metadata": {},
   "outputs": [
    {
     "name": "stderr",
     "output_type": "stream",
     "text": [
      "/tmp/ipykernel_2553/3029640136.py:1: PydanticDeprecatedSince20: The `dict` method is deprecated; use `model_dump` instead. Deprecated in Pydantic V2.0 to be removed in V3.0. See Pydantic V2 Migration Guide at https://errors.pydantic.dev/2.11/migration/\n",
      "  msg.dict()\n"
     ]
    },
    {
     "data": {
      "text/plain": [
       "{'content': '',\n",
       " 'additional_kwargs': {'tool_calls': [{'id': 'chatcmpl-tool-d48da974ea154d7785db8b9429931767',\n",
       "    'type': 'function',\n",
       "    'function': {'name': 'GetWeather',\n",
       "     'arguments': '{\"location\": \"New York, NY\"}'}}]},\n",
       " 'response_metadata': {'token_usage': {'completion_tokens': 26,\n",
       "   'prompt_tokens': 274,\n",
       "   'total_tokens': 300},\n",
       "  'model_name': 'meta-llama/llama-3-3-70b-instruct',\n",
       "  'system_fingerprint': '',\n",
       "  'finish_reason': 'tool_calls'},\n",
       " 'type': 'ai',\n",
       " 'name': None,\n",
       " 'id': 'chatcmpl-a25743bd652941e24fb31f83932238f3',\n",
       " 'example': False,\n",
       " 'tool_calls': [{'name': 'GetWeather',\n",
       "   'args': {'location': 'New York, NY'},\n",
       "   'id': 'chatcmpl-tool-d48da974ea154d7785db8b9429931767',\n",
       "   'type': 'tool_call'}],\n",
       " 'invalid_tool_calls': [],\n",
       " 'usage_metadata': {'input_tokens': 274,\n",
       "  'output_tokens': 26,\n",
       "  'total_tokens': 300}}"
      ]
     },
     "execution_count": 96,
     "metadata": {},
     "output_type": "execute_result"
    }
   ],
   "source": [
    "msg.dict()"
   ]
  },
  {
   "cell_type": "code",
   "execution_count": 93,
   "id": "793d2b1e",
   "metadata": {},
   "outputs": [
    {
     "data": {
      "text/plain": [
       "[{'name': 'GetWeather',\n",
       "  'args': {'location': 'New York, NY'},\n",
       "  'id': 'chatcmpl-tool-d48da974ea154d7785db8b9429931767',\n",
       "  'type': 'tool_call'}]"
      ]
     },
     "execution_count": 93,
     "metadata": {},
     "output_type": "execute_result"
    }
   ],
   "source": [
    "msg.tool_calls"
   ]
  },
  {
   "cell_type": "code",
   "execution_count": null,
   "id": "2959c0cf",
   "metadata": {},
   "outputs": [],
   "source": []
  }
 ],
 "metadata": {
  "kernelspec": {
   "display_name": "ibm",
   "language": "python",
   "name": "python3"
  },
  "language_info": {
   "codemirror_mode": {
    "name": "ipython",
    "version": 3
   },
   "file_extension": ".py",
   "mimetype": "text/x-python",
   "name": "python",
   "nbconvert_exporter": "python",
   "pygments_lexer": "ipython3",
   "version": "3.12.10"
  }
 },
 "nbformat": 4,
 "nbformat_minor": 5
}
