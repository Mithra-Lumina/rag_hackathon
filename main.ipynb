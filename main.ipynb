{
 "cells": [
  {
   "cell_type": "code",
   "execution_count": 11,
   "id": "27690643",
   "metadata": {},
   "outputs": [],
   "source": [
    "import os, getpass\n",
    "from ibm_watsonx_ai import Credentials, APIClient\n",
    "from langchain_chroma import Chroma\n",
    "from langchain_text_splitters import RecursiveCharacterTextSplitter\n",
    "from langchain_community.document_loaders import TextLoader\n",
    "from langchain_ibm import WatsonxEmbeddings\n",
    "from ibm_watsonx_ai.foundation_models.utils.enums import ModelTypes\n",
    "from ibm_watsonx_ai.metanames import GenTextParamsMetaNames as GenParams\n",
    "from ibm_watsonx_ai.foundation_models.utils.enums import DecodingMethods\n",
    "from langchain_ibm import WatsonxLLM\n",
    "from langchain.chains import RetrievalQA"
   ]
  },
  {
   "cell_type": "code",
   "execution_count": null,
   "id": "b58aee27",
   "metadata": {},
   "outputs": [],
   "source": []
  },
  {
   "cell_type": "code",
   "execution_count": 12,
   "id": "aefc8455",
   "metadata": {},
   "outputs": [],
   "source": [
    "credentials = Credentials(\n",
    "    url=\"https://us-south.ml.cloud.ibm.com\",\n",
    "    api_key=\"VPryyL4t508YQ_pJQNCU0m23Yctctahrqo2pjT5BMQkV\"\n",
    ")\n",
    "project_id = \"6552c3bb-a35a-4bf3-8430-c42828d59a06\"\n",
    "api_client = APIClient(credentials=credentials, project_id=project_id)"
   ]
  },
  {
   "cell_type": "code",
   "execution_count": 13,
   "id": "8de3ef64",
   "metadata": {},
   "outputs": [],
   "source": [
    "# filename = \"data/email.csv\"\n",
    "# loader = TextLoader(filename)\n",
    "# documents = loader.load()\n",
    "# text_splitter = RecursiveCharacterTextSplitter(chunk_size=100, chunk_overlap=0)\n",
    "# texts = text_splitter.split_documents(documents)\n",
    "# texts"
   ]
  },
  {
   "cell_type": "code",
   "execution_count": null,
   "id": "d08eff57",
   "metadata": {},
   "outputs": [],
   "source": []
  }
 ],
 "metadata": {
  "kernelspec": {
   "display_name": "ibm",
   "language": "python",
   "name": "python3"
  },
  "language_info": {
   "codemirror_mode": {
    "name": "ipython",
    "version": 3
   },
   "file_extension": ".py",
   "mimetype": "text/x-python",
   "name": "python",
   "nbconvert_exporter": "python",
   "pygments_lexer": "ipython3",
   "version": "3.12.10"
  }
 },
 "nbformat": 4,
 "nbformat_minor": 5
}
