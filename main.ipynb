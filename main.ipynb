{
 "cells": [
  {
   "cell_type": "code",
   "execution_count": 1,
   "id": "27690643",
   "metadata": {},
   "outputs": [
    {
     "name": "stderr",
     "output_type": "stream",
     "text": [
      "/home/behrad/miniforge3/envs/ibm/lib/python3.12/site-packages/tqdm/auto.py:21: TqdmWarning: IProgress not found. Please update jupyter and ipywidgets. See https://ipywidgets.readthedocs.io/en/stable/user_install.html\n",
      "  from .autonotebook import tqdm as notebook_tqdm\n"
     ]
    }
   ],
   "source": [
    "# import os, getpass\n",
    "from ibm_watsonx_ai import Credentials, APIClient\n",
    "from langchain_chroma import Chroma\n",
    "from langchain_text_splitters import RecursiveCharacterTextSplitter\n",
    "from langchain_community.document_loaders import TextLoader\n",
    "from langchain_ibm import WatsonxEmbeddings\n",
    "from ibm_watsonx_ai.foundation_models.utils.enums import ModelTypes\n",
    "from ibm_watsonx_ai.metanames import GenTextParamsMetaNames as GenParams\n",
    "from ibm_watsonx_ai.foundation_models.utils.enums import DecodingMethods\n",
    "from langchain_ibm import ChatWatsonx\n",
    "# from langchain.chains import RetrievalQAjin\n",
    "from ibm_watsonx_ai.foundation_models.schema import TextChatParameters\n",
    "from langchain_experimental.text_splitter import SemanticChunker\n",
    "from langchain_huggingface import HuggingFaceEmbeddings\n",
    "\n",
    "from docling.document_converter import DocumentConverter\n"
   ]
  },
  {
   "cell_type": "markdown",
   "id": "ff9351d5",
   "metadata": {},
   "source": [
    "## Load documents"
   ]
  },
  {
   "cell_type": "code",
   "execution_count": 2,
   "id": "c1ba22f1",
   "metadata": {},
   "outputs": [
    {
     "name": "stderr",
     "output_type": "stream",
     "text": [
      "/home/behrad/miniforge3/envs/ibm/lib/python3.12/site-packages/numpy/_core/fromnumeric.py:3860: RuntimeWarning: Mean of empty slice.\n",
      "  return _methods._mean(a, axis=axis, dtype=dtype,\n",
      "/home/behrad/miniforge3/envs/ibm/lib/python3.12/site-packages/numpy/_core/_methods.py:145: RuntimeWarning: invalid value encountered in scalar divide\n",
      "  ret = ret.dtype.type(ret / rcount)\n",
      "/home/behrad/miniforge3/envs/ibm/lib/python3.12/site-packages/docling/pipeline/standard_pdf_pipeline.py:262: RuntimeWarning: Mean of empty slice\n",
      "  np.nanmean(\n",
      "/home/behrad/miniforge3/envs/ibm/lib/python3.12/site-packages/docling/pipeline/standard_pdf_pipeline.py:267: RuntimeWarning: Mean of empty slice\n",
      "  np.nanmean(\n"
     ]
    }
   ],
   "source": [
    "file_path = \"dummy2.pdf\"\n",
    "converter = DocumentConverter()\n",
    "result = converter.convert(file_path)\n",
    "# doc = result.document\n"
   ]
  },
  {
   "cell_type": "markdown",
   "id": "8507380b",
   "metadata": {},
   "source": [
    "## Chunk"
   ]
  },
  {
   "cell_type": "code",
   "execution_count": null,
   "id": "0c61028e",
   "metadata": {},
   "outputs": [],
   "source": [
    "embedder = HuggingFaceEmbeddings(model=\"jinaai/jina-embeddings-v3\", model_kwargs={\"trust_remote_code\": True})"
   ]
  },
  {
   "cell_type": "code",
   "execution_count": null,
   "id": "2b792364",
   "metadata": {},
   "outputs": [],
   "source": []
  },
  {
   "cell_type": "code",
   "execution_count": null,
   "id": "92284bb5",
   "metadata": {},
   "outputs": [],
   "source": []
  },
  {
   "cell_type": "code",
   "execution_count": 23,
   "id": "5906ebe8",
   "metadata": {},
   "outputs": [
    {
     "name": "stdout",
     "output_type": "stream",
     "text": [
      "0.7086319464168012\n"
     ]
    }
   ],
   "source": [
    "import numpy as np\n",
    "texts = [\n",
    "    \"Follow the white rabbit.\",  # English\n",
    "    \"Sigue al conejo blanco.\",  # Spanish\n",
    "    \"Suis le lapin blanc.\",  # French\n",
    "    \"跟着白兔走。\",  # Chinese\n",
    "    \"اتبع الأرنب الأبيض.\",  # Arabic\n",
    "    \"Folge dem weißen Kaninchen.\",  # German\n",
    "    \"خرگوش سفید را دنبال کن\"\n",
    "\n",
    "]\n",
    "\n",
    "embeddings = embedder.embed_documents(texts)\n",
    "embeddings = np.array(embeddings)\n",
    "print(embeddings[0] @ embeddings[1].T)"
   ]
  },
  {
   "cell_type": "code",
   "execution_count": 24,
   "id": "4073ef6e",
   "metadata": {},
   "outputs": [
    {
     "name": "stdout",
     "output_type": "stream",
     "text": [
      "0.64758606593628\n"
     ]
    }
   ],
   "source": [
    "print(embeddings[0] @ embeddings[6].T)"
   ]
  },
  {
   "cell_type": "code",
   "execution_count": 20,
   "id": "91c3dae1",
   "metadata": {},
   "outputs": [
    {
     "name": "stdout",
     "output_type": "stream",
     "text": [
      "0.6718303814857509\n"
     ]
    }
   ],
   "source": [
    "import numpy as np\n",
    "texts = [\n",
    "    \"Follow the white rabbit.\",  # English\n",
    "    \"Sigue al conejo blanco.\",  # Spanish\n",
    "    \"Suis le lapin blanc.\",  # French\n",
    "    \"跟着白兔走。\",  # Chinese\n",
    "    \"اتبع الأرنب الأبيض.\",  # Arabic\n",
    "    \"Folge dem weißen Kaninchen.\",  # German\n",
    "    \"خرگوش سفید را دنبال کن\"\n",
    "\n",
    "]\n",
    "\n",
    "embeddings = embedder.embed_documents(texts)\n",
    "embeddings = np.array(embeddings)\n",
    "print(embeddings[0] @ embeddings[1].T)"
   ]
  },
  {
   "cell_type": "code",
   "execution_count": 21,
   "id": "55420e23",
   "metadata": {},
   "outputs": [
    {
     "name": "stdout",
     "output_type": "stream",
     "text": [
      "0.5915971370015054\n"
     ]
    }
   ],
   "source": [
    "print(embeddings[0] @ embeddings[6].T)"
   ]
  },
  {
   "cell_type": "code",
   "execution_count": 6,
   "id": "17fd7864",
   "metadata": {},
   "outputs": [],
   "source": [
    "text_splitter = SemanticChunker(embedder)"
   ]
  },
  {
   "cell_type": "code",
   "execution_count": null,
   "id": "aefc8455",
   "metadata": {},
   "outputs": [],
   "source": [
    "api_key=\"VPryyL4t508YQ_pJQNCU0m23Yctctahrqo2pjT5BMQkV\"\n",
    "url=\"https://us-south.ml.cloud.ibm.com\"\n",
    "\n",
    "# credentials = Credentials(\n",
    "#     url=url,\n",
    "#     api_key=api_key\n",
    "# )\n",
    "project_id = \"6552c3bb-a35a-4bf3-8430-c42828d59a06\"\n",
    "# api_client = APIClient(credentials=credentials, project_id=project_id)"
   ]
  },
  {
   "cell_type": "code",
   "execution_count": null,
   "id": "8de3ef64",
   "metadata": {},
   "outputs": [],
   "source": [
    "# filename = \"data/email.csv\"\n",
    "# loader = TextLoader(filename)\n",
    "# documents = loader.load()\n",
    "# text_splitter = RecursiveCharacterTextSplitter(chunk_size=100, chunk_overlap=0)\n",
    "# texts = text_splitter.split_documents(documents)\n",
    "# texts"
   ]
  },
  {
   "cell_type": "code",
   "execution_count": null,
   "id": "d08eff57",
   "metadata": {},
   "outputs": [],
   "source": [
    "model_id = \"meta-llama/llama-4-maverick-17b-128e-instruct-fp8\"\n",
    "parameters = TextChatParameters(\n",
    "    max_tokens = 1024,\n",
    "    temperature = 0\n",
    ")\n",
    "watsonx_llm = ChatWatsonx(\n",
    "    model_id=model_id,\n",
    "    url=url,\n",
    "    apikey=api_key,\n",
    "    project_id=project_id,\n",
    "    params=parameters,\n",
    ")"
   ]
  },
  {
   "cell_type": "code",
   "execution_count": null,
   "id": "55726594",
   "metadata": {},
   "outputs": [],
   "source": [
    "messages = [\n",
    "    (\"system\", \"You are a helpful assistant that translates English to French.\"),\n",
    "    (\n",
    "        \"human\",\n",
    "        \"I love you for listening to Rock.\",\n",
    "    ),\n",
    "]\n"
   ]
  },
  {
   "cell_type": "code",
   "execution_count": null,
   "id": "c236e4aa",
   "metadata": {},
   "outputs": [],
   "source": [
    "\n",
    "out = watsonx_llm.invoke(messages)\n"
   ]
  },
  {
   "cell_type": "code",
   "execution_count": null,
   "id": "a0a9c25b",
   "metadata": {},
   "outputs": [],
   "source": [
    "out.content"
   ]
  },
  {
   "cell_type": "code",
   "execution_count": null,
   "id": "ce001b80",
   "metadata": {},
   "outputs": [],
   "source": []
  }
 ],
 "metadata": {
  "kernelspec": {
   "display_name": "ibm",
   "language": "python",
   "name": "python3"
  },
  "language_info": {
   "codemirror_mode": {
    "name": "ipython",
    "version": 3
   },
   "file_extension": ".py",
   "mimetype": "text/x-python",
   "name": "python",
   "nbconvert_exporter": "python",
   "pygments_lexer": "ipython3",
   "version": "3.12.10"
  }
 },
 "nbformat": 4,
 "nbformat_minor": 5
}
