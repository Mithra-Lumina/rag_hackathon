{
 "cells": [
  {
   "cell_type": "code",
   "execution_count": 62,
   "id": "27690643",
   "metadata": {},
   "outputs": [],
   "source": [
    "# import os, getpass\n",
    "import chromadb\n",
    "from ibm_watsonx_ai import Credentials, APIClient\n",
    "from langchain_chroma import Chroma\n",
    "from langchain_core.documents import Document\n",
    "from uuid import uuid4\n",
    "from langchain_text_splitters import MarkdownTextSplitter\n",
    "from langchain_community.document_loaders import TextLoader\n",
    "from langchain_ibm import WatsonxEmbeddings\n",
    "from ibm_watsonx_ai.foundation_models.utils.enums import ModelTypes\n",
    "from ibm_watsonx_ai.metanames import GenTextParamsMetaNames as GenParams\n",
    "from ibm_watsonx_ai.foundation_models.utils.enums import DecodingMethods\n",
    "from langchain_ibm import ChatWatsonx\n",
    "# from langchain.chains import RetrievalQAjin\n",
    "from langchain_ibm import WatsonxEmbeddings\n",
    "from ibm_watsonx_ai.foundation_models.schema import TextChatParameters\n",
    "from langchain_experimental.text_splitter import SemanticChunker\n",
    "from langchain_huggingface import HuggingFaceEmbeddings\n",
    "from transformers import AutoTokenizer\n",
    "from docling.document_converter import DocumentConverter\n",
    "from utils import *\n",
    "PAGE_BREAK = \"<!-- page break -->\""
   ]
  },
  {
   "cell_type": "code",
   "execution_count": 2,
   "id": "a9994a8f",
   "metadata": {},
   "outputs": [],
   "source": [
    "api_key=\"VPryyL4t508YQ_pJQNCU0m23Yctctahrqo2pjT5BMQkV\"\n",
    "url=\"https://us-south.ml.cloud.ibm.com\"\n",
    "project_id = \"6552c3bb-a35a-4bf3-8430-c42828d59a06\""
   ]
  },
  {
   "cell_type": "markdown",
   "id": "ff9351d5",
   "metadata": {},
   "source": [
    "## Load documents"
   ]
  },
  {
   "cell_type": "code",
   "execution_count": 3,
   "id": "c1ba22f1",
   "metadata": {},
   "outputs": [
    {
     "name": "stderr",
     "output_type": "stream",
     "text": [
      "/home/behrad/miniforge3/envs/ibm/lib/python3.12/site-packages/torch/utils/data/dataloader.py:665: UserWarning: 'pin_memory' argument is set as true but no accelerator is found, then device pinned memory won't be used.\n",
      "  warnings.warn(warn_msg)\n",
      "/home/behrad/miniforge3/envs/ibm/lib/python3.12/site-packages/numpy/_core/fromnumeric.py:3860: RuntimeWarning: Mean of empty slice.\n",
      "  return _methods._mean(a, axis=axis, dtype=dtype,\n",
      "/home/behrad/miniforge3/envs/ibm/lib/python3.12/site-packages/numpy/_core/_methods.py:145: RuntimeWarning: invalid value encountered in scalar divide\n",
      "  ret = ret.dtype.type(ret / rcount)\n",
      "/home/behrad/miniforge3/envs/ibm/lib/python3.12/site-packages/docling/pipeline/standard_pdf_pipeline.py:262: RuntimeWarning: Mean of empty slice\n",
      "  np.nanmean(\n"
     ]
    }
   ],
   "source": [
    "## TODO preserve metadata e.g. page number, chunking should probably be done per page\n",
    "\n",
    "file_path = \"data/climate_edu/389801eng.pdf\"\n",
    "converter = DocumentConverter()\n",
    "result = converter.convert(file_path)\n",
    "doc = result.document\n"
   ]
  },
  {
   "cell_type": "code",
   "execution_count": 52,
   "id": "cbbdb506",
   "metadata": {},
   "outputs": [],
   "source": [
    "doc_name = doc.name"
   ]
  },
  {
   "cell_type": "code",
   "execution_count": 25,
   "id": "cc0b2175",
   "metadata": {},
   "outputs": [],
   "source": [
    "doc_md = doc.export_to_markdown(page_break_placeholder=PAGE_BREAK, image_placeholder=\"\",)\n",
    "with open(\"data/climate_edu/389801eng.md\", \"w\") as f:\n",
    "    f.write(doc_md)\n",
    "\n",
    "pages = doc_md.split(PAGE_BREAK)\n",
    "pages = [markdown_cleanup(page) for page in pages]\n"
   ]
  },
  {
   "cell_type": "markdown",
   "id": "8507380b",
   "metadata": {},
   "source": [
    "## Chunk"
   ]
  },
  {
   "cell_type": "code",
   "execution_count": 87,
   "id": "0c61028e",
   "metadata": {},
   "outputs": [],
   "source": [
    "## TODO change model to granite embed\n",
    "tokenizer = AutoTokenizer.from_pretrained(\n",
    "    \"ibm-granite/granite-embedding-278m-multilingual\"\n",
    ")\n",
    "max_length = tokenizer.model_max_length\n",
    "markdown_splitter = MarkdownTextSplitter.from_huggingface_tokenizer(\n",
    "    tokenizer=tokenizer,\n",
    "    chunk_size=max_length,\n",
    "    chunk_overlap=int(max_length/10)\n",
    ")"
   ]
  },
  {
   "cell_type": "code",
   "execution_count": null,
   "id": "b05e5869",
   "metadata": {},
   "outputs": [],
   "source": [
    "chunked_docs = []\n",
    "for i, page in enumerate(pages):\n",
    "    chunks = markdown_splitter.split_text(page)\n",
    "    for j, chunk in enumerate(chunks):\n",
    "        document = Document(\n",
    "            page_content=chunk,\n",
    "            embeddings=tokenizer.encode(chunk, add_special_tokens=False),\n",
    "            metadata={\n",
    "                \"source\": doc_name,\n",
    "                \"page\": i + 1,\n",
    "                \"chunk\": j + 1\n",
    "            }\n",
    "        )\n",
    "        chunked_docs.append(document)"
   ]
  },
  {
   "cell_type": "markdown",
   "id": "552b73eb",
   "metadata": {},
   "source": [
    "## Ingest"
   ]
  },
  {
   "cell_type": "code",
   "execution_count": 84,
   "id": "96bab72e",
   "metadata": {},
   "outputs": [],
   "source": [
    "embedder = WatsonxEmbeddings(\n",
    "    url=url,\n",
    "    apikey=api_key,\n",
    "    project_id=project_id,\n",
    "    model_id=\"ibm/granite-embedding-278m-multilingual\"\n",
    ")"
   ]
  },
  {
   "cell_type": "code",
   "execution_count": 79,
   "id": "8de3ef64",
   "metadata": {},
   "outputs": [],
   "source": [
    "vector_store = Chroma(\n",
    "    collection_name=\"climate_edu\",\n",
    "    persist_directory=\"data/chroma_db\",\n",
    "    embedding_function=embedder\n",
    ")"
   ]
  },
  {
   "cell_type": "code",
   "execution_count": null,
   "id": "b2c3d2f5",
   "metadata": {},
   "outputs": [
    {
     "data": {
      "text/plain": [
       "['00607966-6456-4f0e-a331-93a41256c163',\n",
       " '93a69a3f-2bfd-41cf-884e-05e51172b5b5',\n",
       " '1da11a6e-bf76-48d2-8c0a-7a0c2f200638',\n",
       " '3895b380-9e4d-4491-bafa-16631560ff45',\n",
       " '9826493a-b694-40f8-be1e-d137acd12802',\n",
       " '6f9eb590-69bb-4e9d-8a74-7747f2fec488',\n",
       " 'a36d494f-fcdb-4285-9c5c-225873caf261',\n",
       " 'fe482308-ef9c-4309-af17-56628babfede',\n",
       " '354e98e1-ff42-447c-9121-3962ee176036',\n",
       " '08c5445d-afaf-4744-8b70-21dfcfcbb92a',\n",
       " 'c7f91fb6-72b3-431b-b588-d2fcd31f29bb',\n",
       " '394c854c-5242-4723-8e3a-8944a6b9b2ec',\n",
       " '2a0ec83d-da9a-47ab-b9c7-475eccf36709',\n",
       " 'be610ffe-f2ff-4960-b99c-b4847d5ad277',\n",
       " 'a15a6ae6-6583-4a14-8061-ee494dae4fd1',\n",
       " '1326d1a0-9021-4223-b54f-fb32e28be181',\n",
       " 'a0d7c80c-2b1b-4347-ad0e-fc6928d15a1b',\n",
       " '5505c6c3-967c-421e-bcc0-fd9170ddd51b',\n",
       " 'd48474b6-c29b-4b99-965f-876a396f19a4',\n",
       " 'ff35aec6-4eeb-4115-8e20-7a68fae73630',\n",
       " 'c0cc3710-18ce-4439-baf8-ebb3a6496e7d',\n",
       " '8cd31040-9415-4f58-8712-3fa69925b0ab',\n",
       " '8df25092-121d-426a-be0a-2dd09010e476',\n",
       " 'f18ff793-38e8-4c58-bebc-2f1593132ff9',\n",
       " '63874ef1-072f-4298-94a3-533374074bc8',\n",
       " '4e8f14df-1e91-4083-b2ea-34a79e8f6969',\n",
       " '4301c687-99a0-4a2a-8837-73f8aa202e9a',\n",
       " 'df565424-3732-44a9-968c-60605cd8ad51',\n",
       " 'f59d39cd-3c1f-46a5-9289-b15a1f68b467',\n",
       " 'a2f232d8-d740-4924-92e3-41b59f760823',\n",
       " '9a7c083e-f574-4ee7-b58a-944b6d78339a',\n",
       " '59ee826b-4c4e-41f3-bfa3-9f6b13a8e196',\n",
       " 'e0d7e8bc-c904-4ca5-a606-d55a7f7ad73f',\n",
       " 'aa69db24-b0c4-41a7-95c4-9b08caa6e2f2',\n",
       " '5635ed43-8967-4de4-87c1-65e933ee5cd4',\n",
       " '864ff187-f98c-4adf-b88c-57d758e474d4',\n",
       " '08197d3a-97c8-4a09-8381-9241ac2b1c0e',\n",
       " 'c9805273-aa49-4f13-9989-243f2a8c703c',\n",
       " '54d24979-f66c-4e21-808e-a7de984105f7',\n",
       " '0eaa8b89-6288-4a0b-8544-d31da637ca7d',\n",
       " '17d1fc17-0f90-4f8d-8433-3f1896de09a6',\n",
       " '918d52c9-a1ed-42aa-852e-6cdcb6d70283',\n",
       " 'c022e77f-37ab-40c3-a1e9-e64f1611e6f2',\n",
       " '5864d5ba-e27d-4292-8e87-69285d006941',\n",
       " 'e3fb717f-def4-4ba9-a3f5-7947e11a165d',\n",
       " 'b15f3447-d13d-4a39-b3fb-754da25e3dab',\n",
       " 'e4443736-c40f-4312-acb3-129b7aebedfc',\n",
       " '737010e6-365c-4bab-9911-ee651cedc5a1',\n",
       " '8a77d3ab-0a44-4081-a4a1-4790929908a0',\n",
       " '9bc05a11-b21f-424b-990a-94cfdec5711c',\n",
       " '042d43f0-03e1-4383-b250-ca9dbe9f5558',\n",
       " '27ad15de-981b-44ad-9d7a-9a42fdb98626',\n",
       " 'abd5bba1-79d7-4820-9c93-320a72c4bc11',\n",
       " '5c953bf9-7de9-4b48-9ca6-7cec40a83e57',\n",
       " 'd9f5f648-14e1-411d-b01c-8157391ff181',\n",
       " '6e387e7e-fdce-4da2-b3bd-2ad665b71203',\n",
       " '2ed24239-42cf-4e62-a1ed-cf662e4b92c7',\n",
       " '5f20f4b8-6782-4a29-8cc6-37722b015e7c',\n",
       " '07b9ae49-845c-4cee-b08c-211698b5a6a4',\n",
       " '8c96fc19-70d5-4840-b6af-ee9cacd9c5ba',\n",
       " 'c316aade-e94b-4c64-a084-4f55a9950f8d',\n",
       " '9ac7d630-7846-4e57-b95b-4feb215ea1e6',\n",
       " '29744c25-27b7-48e7-a3d6-a6602f61990c',\n",
       " '613dfa8d-ad7d-4630-ab1c-5dbb032058b5',\n",
       " '0c267821-3c8c-4576-bf80-ecc6bf43dce9',\n",
       " '38d523cf-9864-436a-826e-3653206f8aa4',\n",
       " '53b1d76e-4c67-478c-88f6-f622fc325ce3',\n",
       " 'c1b6eeee-606e-4ccd-b419-9417f16dfd78',\n",
       " '3ff0e218-3893-4e7e-96d0-0bdf9cbfe921',\n",
       " 'a31a0ccd-28d4-49db-bdb1-b3837a8cad84',\n",
       " '3df71566-82aa-4140-aa73-450df4b2ffef',\n",
       " 'c42538da-d5c5-4244-a242-1617557f62c4',\n",
       " '0a4fd792-b0c8-414b-9702-8729470614b2',\n",
       " '05a9e7d2-d522-454c-8e58-7cb5eed91f42',\n",
       " 'a6fc930d-68cf-44dc-bf9c-35face147469',\n",
       " 'c8c55f0e-7002-4549-9043-6b5f03255d69',\n",
       " '490014b1-eea5-4a31-9627-3565c9340817',\n",
       " '44dc0232-4d3a-4715-9d1c-404ac0f6bde7',\n",
       " '327efe30-e1b6-4598-babb-f4b8d2cbcda7',\n",
       " '60d7fabc-9112-4842-a97e-be7efd88ed83',\n",
       " '140ec31f-6fa6-4470-a625-447d8e6ac781',\n",
       " '930ff997-ea3d-4eb1-8f00-ddf17cb7c691',\n",
       " 'de96fdd2-558a-48c2-b4d1-0073c92105aa',\n",
       " 'a4bdd13e-8e30-4610-984b-2fe7525bcc24',\n",
       " 'a351c4f0-52a1-43c5-85d0-4d5be42432ae',\n",
       " 'bbacd3b1-b43d-482e-ada1-415055354f9c',\n",
       " '116dc129-e02d-417b-9e10-512d825442b4',\n",
       " '86dd0b20-ae4a-43e1-b914-fe5774a4fe09',\n",
       " 'df712a32-3a6e-4daa-bd49-5d0cf30b2603',\n",
       " 'eb40b058-ff81-41d8-9aa2-c575d3074003',\n",
       " '4b490424-8d0e-4920-a1f8-02459bc03e00',\n",
       " 'd9caebba-f2e5-4c0c-9aa6-e147b05fabcd',\n",
       " '9df6f2cf-c3e0-46c2-a571-de163d8039db',\n",
       " 'cbcf830a-230d-4e51-97f6-6d00678757ec']"
      ]
     },
     "execution_count": 80,
     "metadata": {},
     "output_type": "execute_result"
    }
   ],
   "source": [
    "vector_store.add_documents(chunked_docs)"
   ]
  },
  {
   "cell_type": "markdown",
   "id": "2148cd35",
   "metadata": {},
   "source": [
    "## Retrieval"
   ]
  },
  {
   "cell_type": "code",
   "execution_count": 81,
   "id": "25c1fd06",
   "metadata": {},
   "outputs": [],
   "source": [
    "results = vector_store.similarity_search(\n",
    "    \"how many people are affected by climate change?\",\n",
    "    k=2\n",
    ")"
   ]
  },
  {
   "cell_type": "markdown",
   "id": "99f9e35c",
   "metadata": {},
   "source": [
    "## Augmentation"
   ]
  },
  {
   "cell_type": "code",
   "execution_count": null,
   "id": "458474b6",
   "metadata": {},
   "outputs": [
    {
     "data": {
      "text/plain": [
       "[Document(id='5635ed43-8967-4de4-87c1-65e933ee5cd4', metadata={'page': 18, 'chunk': 2, 'source': '389801eng'}, page_content=\"Individuals can experience a range of emotions related to climate change, from hope to anxiety and from grief to denial (Pihkala, 2022). Increased knowledge can also lead to further anxiety about climate change, when not accompanied by addressing these feelings and offering opportunities for engaging with climate action (Hargis and McKenzie, 2020). A study in the US state of North Carolina showed that climate change hope and concern were\\n## FIGURE 4:\\nMost students are taught about climate change in school in richer countries but their scientific knowledge and concern for the environment vary\\nCoverage of climate change in the secondary school curriculum and 15-year-old students' concern for the environment, 2018\\nSource : GEM Report team calculations based on the 2018 PISA.\\npositively related to behaviour, while feeling despair was negatively related to behaviour (Stevenson and Peterson, 2016). Learning strategies that emphasize psychological and social dimensions can contribute to stronger beliefs in the potential of action for climate change (Ojala, 2017; Stevenson and Peterson, 2016; Verlie, 2019). In Sweden, unlike a sense of hope based on ignoring or denying the problem, a constructive approach to hope for climate change had a positive influence on environmental behaviour (Ojala, 2012).\\nSome aspects of climate change and its consequences may feel far away - due to psychological distance - and thus be difficult to prioritize in daily decision making (van der Linden et al., 2015). Data from the 2022 Yale Program on Climate Change Communication show that while most adults at all education levels perceive that climate change will cause future harm, fewer adults agree that climate change will cause a great deal of personal harm. The median gap is about 20 percentage points ( Figure 5 ). On average, only 33% of those lower secondary educated, 34% of upper secondary educated and 36% of post-secondary educated adults agreed that climate change will cause them personal harm, compared to\"),\n",
       " Document(id='5505c6c3-967c-421e-bcc0-fd9170ddd51b', metadata={'chunk': 1, 'source': '389801eng', 'page': 12}, page_content=\"of the 1997 wildfires in Indonesia found that they were associated with reduced years of schooling completed (Lo Bue, 2019).\\nClimate-induced education vulnerability is worse for marginalized populations. Of the 10 countries most affected by extreme weather events in 2019, 8 were lowor lower-middle-income countries (Eckstein et al., 2021). Of the 33 countries identified as bearing extremely high climate risks for children, where nearly 1 billion people live, 29 are also considered to be fragile states (UNICEF, 2021). In the United States, those with low income or without a secondary school certificate are 15% more likely to live in areas with the highest projected increases in childhood asthma diagnoses due to climate-driven increases in particulate air pollution (EPA, 2021). School districts in the United States that received federal disaster recovery funds had higher proportions of students from socially vulnerable groups (US Government Accountability Office, 2022).\\nIndirectly, climate vulnerability leads to loss of household income and less access to credit for farmers, which negatively affects their coping strategies, including investment in education (Kwauk et al., 2022). Flood exposure reduced the number of completed grades of 12- to 15-year-olds in Ethiopia (by 3.4%), India (by 3.8%) and Viet Nam (by 1.8%), as a result of household income loss (Nguyen and Pham, 2018). In Ethiopia, one additional environmental shock leads to more than one extra hour of child labour per week (Koohi-Kamali and Roy, 2021). In a survey of 15,000 youth in South Asia, 13% reported that climate change had affected their family's ability to afford schooling (UNICEF ROSA, 2020). Analysis from eight villages in coastal Bangladesh found that more than two thirds of those surveyed had encountered at least one natural disaster before marriage and these shocks were positively associated with the incidence of child marriage (Asadullah et al., 2021).\")]"
      ]
     },
     "execution_count": 83,
     "metadata": {},
     "output_type": "execute_result"
    }
   ],
   "source": [
    "## TODO prompt template for retrieval QA"
   ]
  },
  {
   "cell_type": "code",
   "execution_count": null,
   "id": "d08eff57",
   "metadata": {},
   "outputs": [],
   "source": [
    "model_id = \"meta-llama/llama-4-maverick-17b-128e-instruct-fp8\"\n",
    "parameters = TextChatParameters(\n",
    "    max_tokens = 1024,\n",
    "    temperature = 0\n",
    ")\n",
    "watsonx_llm = ChatWatsonx(\n",
    "    model_id=model_id,\n",
    "    url=url,\n",
    "    apikey=api_key,\n",
    "    project_id=project_id,\n",
    "    params=parameters,\n",
    ")"
   ]
  },
  {
   "cell_type": "code",
   "execution_count": null,
   "id": "55726594",
   "metadata": {},
   "outputs": [],
   "source": [
    "messages = [\n",
    "    (\"system\", \"You are a helpful assistant that translates English to French.\"),\n",
    "    (\n",
    "        \"human\",\n",
    "        \"I love you for listening to Rock.\",\n",
    "    ),\n",
    "]\n"
   ]
  },
  {
   "cell_type": "code",
   "execution_count": null,
   "id": "c236e4aa",
   "metadata": {},
   "outputs": [],
   "source": [
    "\n",
    "out = watsonx_llm.invoke(messages)\n"
   ]
  },
  {
   "cell_type": "code",
   "execution_count": null,
   "id": "a0a9c25b",
   "metadata": {},
   "outputs": [],
   "source": [
    "out.content"
   ]
  },
  {
   "cell_type": "code",
   "execution_count": null,
   "id": "ce001b80",
   "metadata": {},
   "outputs": [],
   "source": []
  }
 ],
 "metadata": {
  "kernelspec": {
   "display_name": "ibm",
   "language": "python",
   "name": "python3"
  },
  "language_info": {
   "codemirror_mode": {
    "name": "ipython",
    "version": 3
   },
   "file_extension": ".py",
   "mimetype": "text/x-python",
   "name": "python",
   "nbconvert_exporter": "python",
   "pygments_lexer": "ipython3",
   "version": "3.12.10"
  }
 },
 "nbformat": 4,
 "nbformat_minor": 5
}
