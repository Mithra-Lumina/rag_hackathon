{
 "cells": [
  {
   "cell_type": "code",
   "execution_count": 2,
   "id": "27690643",
   "metadata": {},
   "outputs": [],
   "source": [
    "import os, getpass\n",
    "from ibm_watsonx_ai import Credentials, APIClient\n",
    "from langchain_chroma import Chroma\n",
    "from langchain_text_splitters import RecursiveCharacterTextSplitter\n",
    "from langchain_community.document_loaders import TextLoader\n",
    "from langchain_ibm import WatsonxEmbeddings\n",
    "from ibm_watsonx_ai.foundation_models.utils.enums import ModelTypes\n",
    "from ibm_watsonx_ai.metanames import GenTextParamsMetaNames as GenParams\n",
    "from ibm_watsonx_ai.foundation_models.utils.enums import DecodingMethods\n",
    "from langchain_ibm import ChatWatsonx\n",
    "from langchain.chains import RetrievalQA\n",
    "from ibm_watsonx_ai.foundation_models.schema import TextChatParameters"
   ]
  },
  {
   "cell_type": "code",
   "execution_count": 3,
   "id": "aefc8455",
   "metadata": {},
   "outputs": [],
   "source": [
    "api_key=\"VPryyL4t508YQ_pJQNCU0m23Yctctahrqo2pjT5BMQkV\"\n",
    "url=\"https://us-south.ml.cloud.ibm.com\"\n",
    "\n",
    "# credentials = Credentials(\n",
    "#     url=url,\n",
    "#     api_key=api_key\n",
    "# )\n",
    "project_id = \"6552c3bb-a35a-4bf3-8430-c42828d59a06\"\n",
    "# api_client = APIClient(credentials=credentials, project_id=project_id)"
   ]
  },
  {
   "cell_type": "code",
   "execution_count": 4,
   "id": "8de3ef64",
   "metadata": {},
   "outputs": [],
   "source": [
    "# filename = \"data/email.csv\"\n",
    "# loader = TextLoader(filename)\n",
    "# documents = loader.load()\n",
    "# text_splitter = RecursiveCharacterTextSplitter(chunk_size=100, chunk_overlap=0)\n",
    "# texts = text_splitter.split_documents(documents)\n",
    "# texts"
   ]
  },
  {
   "cell_type": "code",
   "execution_count": 5,
   "id": "d08eff57",
   "metadata": {},
   "outputs": [],
   "source": [
    "model_id = \"meta-llama/llama-4-maverick-17b-128e-instruct-fp8\"\n",
    "parameters = TextChatParameters(\n",
    "    max_tokens = 1024,\n",
    "    temperature = 0\n",
    ")\n",
    "watsonx_llm = ChatWatsonx(\n",
    "    model_id=model_id,\n",
    "    url=url,\n",
    "    apikey=api_key,\n",
    "    project_id=project_id,\n",
    "    params=parameters,\n",
    ")"
   ]
  },
  {
   "cell_type": "code",
   "execution_count": null,
   "id": "c236e4aa",
   "metadata": {},
   "outputs": [],
   "source": [
    "\n",
    "out = watsonx_llm.invoke(\"Hi, How is it going?\")\n"
   ]
  },
  {
   "cell_type": "code",
   "execution_count": 9,
   "id": "a0a9c25b",
   "metadata": {},
   "outputs": [
    {
     "name": "stdout",
     "output_type": "stream",
     "text": [
      "I'm doing well, thanks for asking! I'm a large language model, so I don't have feelings or emotions like humans do, but I'm functioning properly and ready to help with any questions or tasks you may have. How about you? How's your day going?\n"
     ]
    }
   ],
   "source": [
    "print(out.content)"
   ]
  },
  {
   "cell_type": "code",
   "execution_count": null,
   "id": "ce001b80",
   "metadata": {},
   "outputs": [],
   "source": []
  }
 ],
 "metadata": {
  "kernelspec": {
   "display_name": "ibm",
   "language": "python",
   "name": "python3"
  },
  "language_info": {
   "codemirror_mode": {
    "name": "ipython",
    "version": 3
   },
   "file_extension": ".py",
   "mimetype": "text/x-python",
   "name": "python",
   "nbconvert_exporter": "python",
   "pygments_lexer": "ipython3",
   "version": "3.12.0"
  }
 },
 "nbformat": 4,
 "nbformat_minor": 5
}
