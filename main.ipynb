{
 "cells": [
  {
   "cell_type": "code",
   "execution_count": 39,
   "id": "27690643",
   "metadata": {},
   "outputs": [],
   "source": [
    "# import os, getpass\n",
    "from ibm_watsonx_ai import Credentials, APIClient\n",
    "from langchain_chroma import Chroma\n",
    "from langchain_text_splitters import MarkdownTextSplitter\n",
    "from langchain_community.document_loaders import TextLoader\n",
    "from langchain_ibm import WatsonxEmbeddings\n",
    "from ibm_watsonx_ai.foundation_models.utils.enums import ModelTypes\n",
    "from ibm_watsonx_ai.metanames import GenTextParamsMetaNames as GenParams\n",
    "from ibm_watsonx_ai.foundation_models.utils.enums import DecodingMethods\n",
    "from langchain_ibm import ChatWatsonx\n",
    "# from langchain.chains import RetrievalQAjin\n",
    "from langchain_ibm import WatsonxEmbeddings\n",
    "from ibm_watsonx_ai.foundation_models.schema import TextChatParameters\n",
    "from langchain_experimental.text_splitter import SemanticChunker\n",
    "from langchain_huggingface import HuggingFaceEmbeddings\n",
    "from transformers import AutoTokenizer\n",
    "from docling.document_converter import DocumentConverter\n",
    "from utils import *\n",
    "PAGE_BREAK = \"<!-- page break -->\""
   ]
  },
  {
   "cell_type": "code",
   "execution_count": 2,
   "id": "a9994a8f",
   "metadata": {},
   "outputs": [],
   "source": [
    "api_key=\"VPryyL4t508YQ_pJQNCU0m23Yctctahrqo2pjT5BMQkV\"\n",
    "url=\"https://us-south.ml.cloud.ibm.com\"\n",
    "project_id = \"6552c3bb-a35a-4bf3-8430-c42828d59a06\""
   ]
  },
  {
   "cell_type": "markdown",
   "id": "ff9351d5",
   "metadata": {},
   "source": [
    "## Load documents"
   ]
  },
  {
   "cell_type": "code",
   "execution_count": 3,
   "id": "c1ba22f1",
   "metadata": {},
   "outputs": [
    {
     "name": "stderr",
     "output_type": "stream",
     "text": [
      "/home/behrad/miniforge3/envs/ibm/lib/python3.12/site-packages/torch/utils/data/dataloader.py:665: UserWarning: 'pin_memory' argument is set as true but no accelerator is found, then device pinned memory won't be used.\n",
      "  warnings.warn(warn_msg)\n",
      "/home/behrad/miniforge3/envs/ibm/lib/python3.12/site-packages/numpy/_core/fromnumeric.py:3860: RuntimeWarning: Mean of empty slice.\n",
      "  return _methods._mean(a, axis=axis, dtype=dtype,\n",
      "/home/behrad/miniforge3/envs/ibm/lib/python3.12/site-packages/numpy/_core/_methods.py:145: RuntimeWarning: invalid value encountered in scalar divide\n",
      "  ret = ret.dtype.type(ret / rcount)\n",
      "/home/behrad/miniforge3/envs/ibm/lib/python3.12/site-packages/docling/pipeline/standard_pdf_pipeline.py:262: RuntimeWarning: Mean of empty slice\n",
      "  np.nanmean(\n"
     ]
    }
   ],
   "source": [
    "## TODO preserve metadata e.g. page number, chunking should probably be done per page\n",
    "\n",
    "file_path = \"data/climate_edu/389801eng.pdf\"\n",
    "converter = DocumentConverter()\n",
    "result = converter.convert(file_path)\n",
    "doc = result.document\n"
   ]
  },
  {
   "cell_type": "code",
   "execution_count": 25,
   "id": "cc0b2175",
   "metadata": {},
   "outputs": [],
   "source": [
    "doc_md = doc.export_to_markdown(page_break_placeholder=PAGE_BREAK, image_placeholder=\"\",)\n",
    "with open(\"data/climate_edu/389801eng.md\", \"w\") as f:\n",
    "    f.write(doc_md)\n",
    "\n",
    "pages = doc_md.split(PAGE_BREAK)\n",
    "pages = [markdown_cleanup(page) for page in pages]\n"
   ]
  },
  {
   "cell_type": "markdown",
   "id": "8507380b",
   "metadata": {},
   "source": [
    "## Chunk"
   ]
  },
  {
   "cell_type": "code",
   "execution_count": 40,
   "id": "0c61028e",
   "metadata": {},
   "outputs": [],
   "source": [
    "## TODO change model to granite embed\n",
    "tokenizer = AutoTokenizer.from_pretrained(\n",
    "    \"ibm-granite/granite-embedding-278m-multilingual\"\n",
    ")\n",
    "\n",
    "\n",
    "markdown_splitter = MarkdownTextSplitter.from_huggingface_tokenizer(\n",
    "    tokenizer=tokenizer,\n",
    "    chunk_size=500,\n",
    "    chunk_overlap=50,\n",
    ")"
   ]
  },
  {
   "cell_type": "code",
   "execution_count": 46,
   "id": "b05e5869",
   "metadata": {},
   "outputs": [],
   "source": [
    "chunked_doc = []\n",
    "for i, page in enumerate(pages):\n",
    "    chunks = markdown_splitter.split_text(page)\n",
    "    for j, chunk in enumerate(chunks):\n",
    "        chunked = {\n",
    "            \"page\": i + 1,\n",
    "            \"chunk\": j + 1,\n",
    "            \"text\": chunk\n",
    "        }\n",
    "        chunked_doc.append(chunked)"
   ]
  },
  {
   "cell_type": "code",
   "execution_count": null,
   "id": "8de3ef64",
   "metadata": {},
   "outputs": [],
   "source": [
    "# filename = \"data/email.csv\"\n",
    "# loader = TextLoader(filename)\n",
    "# documents = loader.load()\n",
    "# text_splitter = RecursiveCharacterTextSplitter(chunk_size=100, chunk_overlap=0)\n",
    "# texts = text_splitter.split_documents(documents)\n",
    "# texts"
   ]
  },
  {
   "cell_type": "code",
   "execution_count": null,
   "id": "d08eff57",
   "metadata": {},
   "outputs": [],
   "source": [
    "model_id = \"meta-llama/llama-4-maverick-17b-128e-instruct-fp8\"\n",
    "parameters = TextChatParameters(\n",
    "    max_tokens = 1024,\n",
    "    temperature = 0\n",
    ")\n",
    "watsonx_llm = ChatWatsonx(\n",
    "    model_id=model_id,\n",
    "    url=url,\n",
    "    apikey=api_key,\n",
    "    project_id=project_id,\n",
    "    params=parameters,\n",
    ")"
   ]
  },
  {
   "cell_type": "code",
   "execution_count": null,
   "id": "55726594",
   "metadata": {},
   "outputs": [],
   "source": [
    "messages = [\n",
    "    (\"system\", \"You are a helpful assistant that translates English to French.\"),\n",
    "    (\n",
    "        \"human\",\n",
    "        \"I love you for listening to Rock.\",\n",
    "    ),\n",
    "]\n"
   ]
  },
  {
   "cell_type": "code",
   "execution_count": null,
   "id": "c236e4aa",
   "metadata": {},
   "outputs": [],
   "source": [
    "\n",
    "out = watsonx_llm.invoke(messages)\n"
   ]
  },
  {
   "cell_type": "code",
   "execution_count": null,
   "id": "a0a9c25b",
   "metadata": {},
   "outputs": [],
   "source": [
    "out.content"
   ]
  },
  {
   "cell_type": "code",
   "execution_count": null,
   "id": "ce001b80",
   "metadata": {},
   "outputs": [],
   "source": []
  }
 ],
 "metadata": {
  "kernelspec": {
   "display_name": "ibm",
   "language": "python",
   "name": "python3"
  },
  "language_info": {
   "codemirror_mode": {
    "name": "ipython",
    "version": 3
   },
   "file_extension": ".py",
   "mimetype": "text/x-python",
   "name": "python",
   "nbconvert_exporter": "python",
   "pygments_lexer": "ipython3",
   "version": "3.12.10"
  }
 },
 "nbformat": 4,
 "nbformat_minor": 5
}
