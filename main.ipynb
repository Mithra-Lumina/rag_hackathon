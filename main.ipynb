{
 "cells": [
  {
   "cell_type": "code",
   "execution_count": 1,
   "id": "27690643",
   "metadata": {},
   "outputs": [
    {
     "name": "stderr",
     "output_type": "stream",
     "text": [
      "/home/behrad/miniforge3/envs/ibm/lib/python3.12/site-packages/tqdm/auto.py:21: TqdmWarning: IProgress not found. Please update jupyter and ipywidgets. See https://ipywidgets.readthedocs.io/en/stable/user_install.html\n",
      "  from .autonotebook import tqdm as notebook_tqdm\n"
     ]
    }
   ],
   "source": [
    "# import os, getpass\n",
    "import chromadb\n",
    "from ibm_watsonx_ai import Credentials, APIClient\n",
    "from langchain_chroma import Chroma\n",
    "from langchain_core.documents import Document\n",
    "from uuid import uuid4\n",
    "from langchain_text_splitters import MarkdownTextSplitter\n",
    "from langchain_community.document_loaders import TextLoader\n",
    "from langchain_ibm import WatsonxEmbeddings\n",
    "from ibm_watsonx_ai.foundation_models.utils.enums import ModelTypes\n",
    "from ibm_watsonx_ai.metanames import GenTextParamsMetaNames as GenParams\n",
    "from ibm_watsonx_ai.foundation_models.utils.enums import DecodingMethods\n",
    "from langchain_ibm import ChatWatsonx, WatsonxLLM, WatsonxEmbeddings\n",
    "# from langchain.chains import RetrievalQAjin\n",
    "from ibm_watsonx_ai.foundation_models.schema import TextChatParameters\n",
    "from langchain_experimental.text_splitter import SemanticChunker\n",
    "from langchain_huggingface import HuggingFaceEmbeddings\n",
    "from transformers import AutoTokenizer\n",
    "from docling.document_converter import DocumentConverter\n",
    "from utils import *\n",
    "from langchain_core.messages import (\n",
    "    HumanMessage,\n",
    "    SystemMessage,\n",
    "    AIMessage\n",
    ")\n",
    "PAGE_BREAK = \"<!-- page break -->\""
   ]
  },
  {
   "cell_type": "code",
   "execution_count": 2,
   "id": "a9994a8f",
   "metadata": {},
   "outputs": [],
   "source": [
    "api_key=\"VPryyL4t508YQ_pJQNCU0m23Yctctahrqo2pjT5BMQkV\"\n",
    "url=\"https://us-south.ml.cloud.ibm.com\"\n",
    "project_id = \"6552c3bb-a35a-4bf3-8430-c42828d59a06\""
   ]
  },
  {
   "cell_type": "markdown",
   "id": "ff9351d5",
   "metadata": {},
   "source": [
    "## Load documents"
   ]
  },
  {
   "cell_type": "code",
   "execution_count": 3,
   "id": "c1ba22f1",
   "metadata": {},
   "outputs": [],
   "source": [
    "# file_path = \"data/climate_edu/389801eng.pdf\"\n",
    "# converter = DocumentConverter()\n",
    "# result = converter.convert(file_path)\n",
    "# doc = result.document\n",
    "# doc_name = doc.name"
   ]
  },
  {
   "cell_type": "code",
   "execution_count": 4,
   "id": "cc0b2175",
   "metadata": {},
   "outputs": [],
   "source": [
    "# doc_md = doc.export_to_markdown(page_break_placeholder=PAGE_BREAK, image_placeholder=\"\",)\n",
    "# with open(\"data/climate_edu/389801eng.md\", \"w\") as f:\n",
    "#     f.write(doc_md)\n",
    "\n",
    "# pages = doc_md.split(PAGE_BREAK)\n",
    "# pages = [markdown_cleanup(page) for page in pages]"
   ]
  },
  {
   "cell_type": "markdown",
   "id": "8507380b",
   "metadata": {},
   "source": [
    "## Chunk"
   ]
  },
  {
   "cell_type": "code",
   "execution_count": 5,
   "id": "0c61028e",
   "metadata": {},
   "outputs": [],
   "source": [
    "# tokenizer = AutoTokenizer.from_pretrained(\n",
    "#     \"ibm-granite/granite-embedding-278m-multilingual\"\n",
    "# )\n",
    "# max_length = tokenizer.model_max_length\n",
    "# chunk_overlap_length = int(max_length / 10)\n",
    "# chunk_size_length = max_length - chunk_overlap_length\n",
    "# markdown_splitter = MarkdownTextSplitter.from_huggingface_tokenizer(\n",
    "#     tokenizer=tokenizer,\n",
    "#     chunk_size=chunk_size_length,\n",
    "#     chunk_overlap=chunk_overlap_length\n",
    "# )"
   ]
  },
  {
   "cell_type": "code",
   "execution_count": 6,
   "id": "b05e5869",
   "metadata": {},
   "outputs": [],
   "source": [
    "# chunked_docs = []\n",
    "# for i, page in enumerate(pages):\n",
    "#     chunks = markdown_splitter.split_text(page)\n",
    "#     for j, chunk in enumerate(chunks):\n",
    "#         document = Document(\n",
    "#             page_content=chunk,\n",
    "#             embeddings=tokenizer.encode(chunk, add_special_tokens=False),\n",
    "#             metadata={\n",
    "#                 \"source\": doc_name,\n",
    "#                 \"page\": i + 1,\n",
    "#                 \"chunk\": j + 1\n",
    "#             }\n",
    "#         )\n",
    "#         chunked_docs.append(document)"
   ]
  },
  {
   "cell_type": "markdown",
   "id": "552b73eb",
   "metadata": {},
   "source": [
    "## Ingest"
   ]
  },
  {
   "cell_type": "code",
   "execution_count": 7,
   "id": "96bab72e",
   "metadata": {},
   "outputs": [],
   "source": [
    "embedder = WatsonxEmbeddings(\n",
    "    url=url,\n",
    "    apikey=api_key,\n",
    "    project_id=project_id,\n",
    "    model_id=\"ibm/granite-embedding-278m-multilingual\"\n",
    ")"
   ]
  },
  {
   "cell_type": "code",
   "execution_count": 8,
   "id": "8de3ef64",
   "metadata": {},
   "outputs": [],
   "source": [
    "vector_store = Chroma(\n",
    "    collection_name=\"climate_edu\",\n",
    "    persist_directory=\"data/chroma_db\",\n",
    "    embedding_function=embedder\n",
    ")"
   ]
  },
  {
   "cell_type": "code",
   "execution_count": 9,
   "id": "b2c3d2f5",
   "metadata": {},
   "outputs": [],
   "source": [
    "# vector_store.add_documents(chunked_docs)"
   ]
  },
  {
   "cell_type": "markdown",
   "id": "2148cd35",
   "metadata": {},
   "source": [
    "## Retrieval"
   ]
  },
  {
   "cell_type": "code",
   "execution_count": 10,
   "id": "1fff87cc",
   "metadata": {},
   "outputs": [],
   "source": [
    "user_query = \"What could be done by a single person to help mitigate climate change?\""
   ]
  },
  {
   "cell_type": "code",
   "execution_count": 11,
   "id": "25c1fd06",
   "metadata": {},
   "outputs": [],
   "source": [
    "retriever = vector_store.max_marginal_relevance_search(\n",
    "    user_query,\n",
    "    k=10,\n",
    "    fetch_k=20\n",
    ")"
   ]
  },
  {
   "cell_type": "code",
   "execution_count": 12,
   "id": "cea2f233",
   "metadata": {},
   "outputs": [],
   "source": [
    "retriever_docs = [doc.page_content for doc in retriever]\n",
    "answer = \"\"\n",
    "for i, doc in enumerate(retriever_docs):\n",
    "    answer += f\"Document {i + 1}:\\n{doc}\\n\""
   ]
  },
  {
   "cell_type": "markdown",
   "id": "99f9e35c",
   "metadata": {},
   "source": [
    "## Augmentation"
   ]
  },
  {
   "cell_type": "code",
   "execution_count": 13,
   "id": "1178a2bb",
   "metadata": {},
   "outputs": [],
   "source": [
    "parameters = {\"max_new_tokens\": 1024, \"decoding_method\": \"sample\", \"temperature\": 0.2}\n",
    "ibm_chat = ChatWatsonx(\n",
    "    url=url,\n",
    "    apikey=api_key,\n",
    "    project_id=project_id,\n",
    "    model_id=\"meta-llama/llama-3-3-70b-instruct\",\n",
    "    params=parameters,\n",
    ")"
   ]
  },
  {
   "cell_type": "code",
   "execution_count": 14,
   "id": "2ff08a05",
   "metadata": {},
   "outputs": [],
   "source": [
    "SYSTEM_PROMPT = f\"\"\"\n",
    "You are a teacher who provide information on climate change, its impacts, and actions individuals can take to mitigate it. Use the provided context to answer each user question as accurately and briefly as possible. If the context does not contain the answer, respond with: \"Sorry, I cannot assist you.\"\n",
    "Answer the queries with the same user's input language no matter the context's language.\n",
    "Always answer in markdown format, using bullet points for lists and bold for important facts. If the context is not sufficient to answer the question, politely inform the user that you cannot assist them.\n",
    "Keep the the answers like you are teaching and add a little interaction to the answer, like asking a question or giving a suggestion to the user.\n",
    "Example of a good answer:\n",
    "Here are some actions a single person can take to help mitigate climate change:\n",
    "    1. Reduce energy consumption by using energy-efficient appliances and turning off lights when not in use.\n",
    "    2. Use public transportation, carpool, bike, or walk instead of driving alone.\n",
    "    3. Reduce, reuse, and recycle to minimize waste.\n",
    "    4. Support renewable energy sources like solar or wind power.\n",
    "I hope these suggestions help you contribute to a more sustainable future! What actions do you think you can take to help mitigate climate change?\n",
    "Context is provided below. Use it to answer the user's question. If the context does not contain the answer, respond with: \"Sorry, I cannot assist you.\"\n",
    "Context:\n",
    "{answer}\n",
    "\"\"\"\n"
   ]
  },
  {
   "cell_type": "code",
   "execution_count": 15,
   "id": "439af1fb",
   "metadata": {},
   "outputs": [],
   "source": [
    "system_message = SystemMessage(\n",
    "    content=SYSTEM_PROMPT\n",
    ")\n",
    "human_message = HumanMessage(\n",
    "    content=user_query\n",
    ")"
   ]
  },
  {
   "cell_type": "code",
   "execution_count": 16,
   "id": "90b2598d",
   "metadata": {},
   "outputs": [
    {
     "data": {
      "text/plain": [
       "HumanMessage(content='What could be done by a single person to help mitigate climate change?', additional_kwargs={}, response_metadata={})"
      ]
     },
     "execution_count": 16,
     "metadata": {},
     "output_type": "execute_result"
    }
   ],
   "source": [
    "human_message"
   ]
  },
  {
   "cell_type": "code",
   "execution_count": 17,
   "id": "531ca812",
   "metadata": {},
   "outputs": [],
   "source": [
    "response = ibm_chat.invoke(\n",
    "    [system_message, human_message]\n",
    ")\n"
   ]
  },
  {
   "cell_type": "code",
   "execution_count": 33,
   "id": "39d9385b",
   "metadata": {},
   "outputs": [],
   "source": [
    "stream= ibm_chat.stream(\n",
    "    [system_message, human_message]\n",
    ")"
   ]
  },
  {
   "cell_type": "code",
   "execution_count": 34,
   "id": "8d1c8756",
   "metadata": {},
   "outputs": [
    {
     "name": "stdout",
     "output_type": "stream",
     "text": [
      "Here are some actions a single person can take to help mitigate climate change:\n",
      "* Reduce energy consumption by using energy-efficient appliances and turning off lights when not in use.\n",
      "* Use public transportation, carpool, bike, or walk instead of driving alone.\n",
      "* Reduce, reuse, and recycle to minimize waste.\n",
      "* Support renewable energy sources like solar or wind power.\n",
      "* Make sustainable food choices, such as eating plant-based meals and reducing food waste.\n",
      "* Conserve water by taking shorter showers and fixing leaks.\n",
      "* Get involved in your community by participating in local climate initiatives and advocating for climate policies.\n",
      "\n",
      "I hope these suggestions help you contribute to a more sustainable future! What actions do you think you can take to help mitigate climate change?"
     ]
    }
   ],
   "source": [
    "for chunk in stream:\n",
    "    if isinstance(chunk, AIMessage):\n",
    "        print(chunk.content, end=\"\", flush=True)"
   ]
  },
  {
   "cell_type": "code",
   "execution_count": 18,
   "id": "10b51602",
   "metadata": {},
   "outputs": [
    {
     "name": "stdout",
     "output_type": "stream",
     "text": [
      "### Actions to Help Mitigate Climate Change\n",
      "Here are some actions a single person can take to help mitigate climate change:\n",
      "* Reduce energy consumption by using energy-efficient appliances and turning off lights when not in use.\n",
      "* Use public transportation, carpool, bike, or walk instead of driving alone.\n",
      "* Reduce, reuse, and recycle to minimize waste.\n",
      "* Support renewable energy sources like solar or wind power.\n",
      "* Make conscious food choices, such as reducing meat consumption and choosing locally sourced products.\n",
      "* Conserve water by taking shorter showers and fixing leaks.\n",
      "* Plant trees or support reforestation efforts to help absorb carbon dioxide.\n",
      "* Get involved in your community by participating in local environmental initiatives or advocating for climate policies.\n",
      "\n",
      "I hope these suggestions help you contribute to a more sustainable future! What actions do you think you can take to help mitigate climate change?\n"
     ]
    }
   ],
   "source": [
    "print(response.content)"
   ]
  },
  {
   "cell_type": "code",
   "execution_count": 19,
   "id": "458474b6",
   "metadata": {},
   "outputs": [],
   "source": [
    "prompt_template = f\"\"\"<|begin_of_text|><|header_start|>system<|header_end|>\n",
    "You are a teacher who provide information on climate change, its impacts, and actions individuals can take to mitigate it. Use the provided context to answer each user question as accurately and briefly as possible. If the context does not contain the answer, respond with: \"Sorry, I cannot assist you.\"\n",
    "Answer the queries with the same user's input language no matter the context's language.\n",
    "Always answer in markdown format, using bullet points for lists and bold for important facts. If the context is not sufficient to answer the question, politely inform the user that you cannot assist them.\n",
    "Keep the the answers like you are teaching and add a little interaction to the answer, like asking a question or giving a suggestion to the user.\n",
    "Example of a good answer:\n",
    "Here are some actions a single person can take to help mitigate climate change:\n",
    "    1. Reduce energy consumption by using energy-efficient appliances and turning off lights when not in use.\n",
    "    2. Use public transportation, carpool, bike, or walk instead of driving alone.\n",
    "    3. Reduce, reuse, and recycle to minimize waste.\n",
    "    4. Support renewable energy sources like solar or wind power.\n",
    "I hope these suggestions help you contribute to a more sustainable future! What actions do you think you can take to help mitigate climate change?\n",
    "Context is provided below. Use it to answer the user's question. If the context does not contain the answer, respond with: \"Sorry, I cannot assist you.\"\n",
    "Context:\n",
    "{answer}<|eot|>\n",
    "<|header_start|>user<|header_end|>\n",
    "\n",
    "{user_query}<|eot|>\n",
    "<|header_start|>assistant<|header_end|>\n",
    "\"\"\""
   ]
  },
  {
   "cell_type": "code",
   "execution_count": 20,
   "id": "ba3bdd80",
   "metadata": {},
   "outputs": [
    {
     "name": "stdout",
     "output_type": "stream",
     "text": [
      "<|begin_of_text|><|header_start|>system<|header_end|>\n",
      "You are a teacher who provide information on climate change, its impacts, and actions individuals can take to mitigate it. Use the provided context to answer each user question as accurately and briefly as possible. If the context does not contain the answer, respond with: \"Sorry, I cannot assist you.\"\n",
      "Answer the queries with the same user's input language no matter the context's language.\n",
      "Always answer in markdown format, using bullet points for lists and bold for important facts. If the context is not sufficient to answer the question, politely inform the user that you cannot assist them.\n",
      "Keep the the answers like you are teaching and add a little interaction to the answer, like asking a question or giving a suggestion to the user.\n",
      "Example of a good answer:\n",
      "Here are some actions a single person can take to help mitigate climate change:\n",
      "    1. Reduce energy consumption by using energy-efficient appliances and turning off lights when not in use.\n",
      "    2. Use public transportation, carpool, bike, or walk instead of driving alone.\n",
      "    3. Reduce, reuse, and recycle to minimize waste.\n",
      "    4. Support renewable energy sources like solar or wind power.\n",
      "I hope these suggestions help you contribute to a more sustainable future! What actions do you think you can take to help mitigate climate change?\n",
      "Context is provided below. Use it to answer the user's question. If the context does not contain the answer, respond with: \"Sorry, I cannot assist you.\"\n",
      "Context:\n",
      "Document 1:\n",
      "## Education or knowledge is only one aspect of motivating behaviour change\n",
      "In 2022, the Intergovernmental Panel for Climate Change concluded that behavioural interventions could increase the efficacy of subsidies and taxes. In their recommendations on decarbonization, the Science Academies of G7 countries urged governments to strengthen climate literacy and citizen involvement and to promote behaviour-oriented science to support transformative social innovations and increase support for technologies, policies and routines for carbon-neutral lifestyles (Jenny and Betsch, 2022).\n",
      "A review of 10 meta-analyses on climate change mitigation field-based interventions found that the 6 intervention categories (education, feedback, commitment, appeals, financial incentives and social comparison) were generally effective in motivating climate action. Interventions based on social comparisons and financial incentives were the most effective, while those based on education and feedback were the least effective (Bergquist et al., 2023). While education is needed to make the public aware of a problem, it may not be effective at changing behaviours without additional interventions that include social-emotional and action components.\n",
      "Climate change communication and education is most effective in motivating action when framed in the language, values and priorities of communities (Callison, 2020). Message framing strategies are needed to prompt action among those who believe in climate change and those who do not, especially if they are strongly swayed by political ideology (Badullovich et al., 2020). Climate messages that appeal to free market beliefs, security or patriotism; emphasize the near universalization of the climate scientist consensus; and use tools to enable adults to tackle misinformation are better suited to win over those resistant to action. Messaging based on hope to maintain urgency and emphasizing social norms of environment-protecting behaviour are strategies that can motivate action among climate change believers (Hornsey and Fielding, 2020).\n",
      "Document 2:\n",
      "| Human activity is the primary cause of climate change. | 38 | 44 | 49 |\n",
      "| I hear about climate change at least once a month in my daily life. | 36 | 44 | 50 |\n",
      "| Urgency | | | |\n",
      "| I am very worried. | 42 | 40 | 43 |\n",
      "| It is a very important issue for me personally. | 58 | 60 | 64 |\n",
      "| Government action | | | |\n",
      "| It is a very serious threat to where I live. | 44 | 45 | 49 |\n",
      "| It should be given high priority where I live. | 63 | 69 | 73 |\n",
      "| We should reduce pollution, regardless of what other countries do. | 31 | 42 | 52 |\n",
      "| Taking action will reduce growth and cost jobs. | 33 | 31 | 28 |\n",
      "| Country should use more renewables. | 48 | 53 | 60 |\n",
      "| Country should use more fossil fuels. | 22 | 18 | 15 |\n",
      "| Individual action | | | |\n",
      "| I am participating in a group working to convince leaders to take action. | 12 | 9 | 9 |\n",
      "| I would definitely join a group. | 23 | 25 | 28 |\n",
      "Note : Facebook responses were collected in April-May 2022 from nearly 109,000 active adult users from 192 countries and territories, grouped into 107 individual countries and territories and 3 geographic groups.\n",
      "Source : GEM Report team calculations based on Leiserowitz et al. (2022) and a communication with the Yale Program on Climate Change Communication.\n",
      "Document 3:\n",
      "Some strategies focus on making climate change communication more personal and experiential and leveraging relevant social group norms. A review of 19 studies found that when individuals perceive climate change as more proximate and concrete, they have a higher propensity to behave in ways that protect the environment (Maiella et al., 2020). Inviting Australians to watch a four-minute video that portrayed climate impacts as mostly happening in Australia, rather than in faraway places, lowered the psychological distance and in turn increased their concern levels and intention to behave in ways that help mitigate climate change (Jones et al., 2017).\n",
      "The idea of making messages specific to their context characterizes several communication efforts at the national and local level ( Box 8 ). In India, the National Bank for Agriculture and Rural Development in partnership with the Centre for Environment Education launched Jal Jivan Hai (Water for Life), a major education and communication campaign to create awareness among rural communities about water conservation and efficient water technologies. Over 8,000 youth were trained as campaign facilitators and implementers at the local level. They received a detailed manual on running the campaign and a kit with educational resource materials to conduct a 'day in a village' campaign, which reached over 100,000 villages in 21 states. Some countries incorporate local and indigenous knowledge to acknowledge history, vulnerabilities and lessons that can be learned from traditional knowledge systems (Orlove et al., 2022). Zambia's 2021 National Climate Change Learning Strategy aims to promote the involvement of local authorities and traditional leaders and the use of indigenous knowledge in public awareness campaigns.\n",
      "Document 4:\n",
      "## Education and climate change Learning to act for people and planet\n",
      "Document 5:\n",
      "-  Education can mitigate climate change indirectly through its impact on demographic growth . In Bangladesh, the introduction of a female secondary school stipend programme in 1994 increased the years of education for eligible girls by up to 25%, delayed their marriage, and was the most significant driver of reduction in childbearing between 1993 to 2014.\n",
      "-  Multiple sectors rely upon formal, non-formal and informal education to increase capacity for climate change adaptation and mitigation, from energy to agriculture and forestry to urban planning. In a survey of some 12,500 businesses in the European Union, more than 80% believed that skills shortage was preventing climate change projects from advancing.\n",
      "-  Students and youth are calling for improved climate chance education. They are calling for more context to understand climate change and justice history and highlighting textbook inadequacies. Many protests focus on university policies. In the United States, students have pushed 141 institutions to divest endowments from industries producing fossil fuels since 2012.\n",
      "-  Campaigns around climate change aim to raise awareness among adults. An analysis of climate actions taken by 96 cities with over 650 million inhabitants found that awareness and educational campaigns were the third-most common action taken by cities to combat climate change.\n",
      "-  Climate change-related disasters disrupt education. Over the past 20 years, schools were closed as a result of at least 75% of the extreme weather events impacting 5 million people or more in low- and middle-income countries.\n",
      "Document 6:\n",
      "Conversely, education, whether formal, non-formal or informal, is key to climate change mitigation and adaption efforts. The aims of climate change education often include improving knowledge; raising awareness; and changing attitudes, beliefs and behaviours. In the case of mitigation, education systems can also support climate-focused research and development, to accelerate technological innovation for climate solutions, and workforce capacity development through green upskilling, to implement transformative plans. Another powerful way education can help mitigate climate change is through increasing girls' educational attainment, which increases their autonomy over fertility-related decisions and reduces population growth (Lutz, 2023; UNESCO, 2016a).\n",
      "In the case of adaptation, education is a key element of climate-related disaster preparedness aimed at reducing vulnerability (Pal et al., 2023). A well-designed curriculum, appropriate pedagogy and learning resources can prepare people to take complex, adaptive decisions (Feinstein and Mach, 2020), for instance in agriculture and construction. Education can empower vulnerable communities to adapt and be resilient in the face of climate threats, for example through empowering girls and women (Kwauk, 2021; Kwauk et al., 2022).\n",
      "Education also has the potential to empower youth and adults as agents of change to mobilize their communities and change social norms. Young people are a significant voice and face of the climate change movement, highlighting issues of climate justice, such as racial justice, gender equality and indigenous rights (Xu and Iyengar, 2023), and the need for climate change education of high quality (UNESCO, 2022). Formal education on climate change can equip young people with the tools to understand the long-lasting impact of past behaviours and advocate for policy change at the local, national and global levels (COY17 and YOUNGO, 2022). Indigenous peoples\n",
      "Document 7:\n",
      "C limate change and its impacts, pose an existential threat, as successive reports of the Intergovernmental Panel for Climate Change have testified. Responses are needed at multiple levels across sectors to adapt to current and future effects and, more essentially, to mitigate growing threats to people and planet. There is scope for mitigation and adaptation through changes in transport, energy, food and agricultural systems - and through the radical transformation of how economies and societies function, beyond incremental steps. Four agendas for action - the Paris Agreement, the 2030 Agenda for Sustainable Development, the United Nations Framework Convention on Climate Change (UNFCCC) and the Sendai Framework for Disaster Risk Reduction - collectively provide globally agreed-upon frameworks for climate action.\n",
      "Education receives some policy attention in these global frameworks. Article 6 of the UNFCCC outlines six priority areas of Action for Climate Empowerment: education, training, public awareness, public participation, public access to information and international cooperation (UNESCO and UNFCC, 2016). These are also mentioned in Article 12 of the Paris Agreement. The 2030 Agenda for Sustainable Development includes education (SDG 4), sustainable consumption and production (SDG 12) and climate change (SDG 13) goals. A lot of the activity focuses on the Conference of Parties (COP), the main decision-making meeting of the UNFCCC. Since COP26 in Glasgow in 2021, the education community has accelerated its efforts to highlight the importance of education and engage with other sectors, which have culminated in the endorsement of the Declaration of the Common Agenda for Education and Climate Change by 41 founding partners in COP28 in Dubai in 2023. Nevertheless, education remains largely underemphasized in broader climate change policy discussions. As a result, it features inadequately in implementation and financing plans.\n",
      "Document 8:\n",
      "## TARGETED COMMUNICATION CAMPAIGNS ACCOMPANIED BY INCENTIVES INFLUENCE BEHAVIOUR\n",
      "Climate behaviours and actions can be influenced not only by general but also through targeted communication that is accompanied by incentives and other interventions to engage the general public. Analysis of behavioural interventions targeting energy efficiency highlights the need to use multiple levers: simplified information, feedback mechanisms, social norms and comparisons, goal setting, rewards, and smart default options (Cornago, 2021). A meta-analysis of 84 communication campaigns in 18 countries found that they improved knowledge about solutions, belief in the benefits from these solutions and new behaviours. However, only providing knowledge was not a strong predictor of behaviour changes. A combination of interventions, coupling knowledge with interpersonal, peer-to-peer communication, was more likely to influence attitudes and behaviours (Green et al., 2019).\n",
      "A combination of tailored information, feedback and goal setting helped increase knowledge and encourage energy conservation in Egypt. The Ministry of Electricity chose the message 'You are the solution. Don't be too lazy to turn off an appliance'. Highlighting other benefits, such as health, well-being and comfort, can help people relate to the topic. In Japan, the Ministry of Environment worked with 4 utility companies to send quarterly reports with personalized energy use information to 300,000 households. Households receiving reports used 2% less energy (Motherway et al., 2022). The 'Let's live warmer' campaign in Lithuania increased the number of applications for home renovations by four times between 2009 and 2011.\n",
      "Document 9:\n",
      "In Switzerland, a part of carbon tax revenues is redistributed as dividends, which are deducted from mandatory health insurance premiums. As only 12% of people were aware they had been receiving climate dividends, this solution initially failed to capture attention. In a large-scale experiment, half of the participants received information on how the climate dividend works and on how much money they saved through the policy, while the other half received no information. The analysis showed that informing the public about the climate dividend once it is installed could increase acceptance of a carbon tax (Jenny and Betsch, 2022).\n",
      "Several campaigns focus on carbon footprint tracking to help people understand their use of resources and motivate action. The Global Footprint Network has developed a personal calculator application. A survey of users revealed that 91% found it useful for generating knowledge and 78% for motivating action but only 23% indicated that it gave them enough information to make actual changes and reduce their personal footprint (Collins et al., 2020). Another analysis of online carbon footprint calculators found that 16% believed they had been effective in changing their daily energy consumption habits. The most effective calculators were both accurate and engaging, leading to higher use and better retention of knowledge (Mulrow et al., 2019). The EarthProject app, developed by Take Action Global with the Deloitte Corporation, helps users learn about climate change, motivate them to reduce carbon and plastic waste, and observe their impact on a daily basis. The application includes a focus on teachers and has been launched in schools in 142 countries (Take Action Global, 2023).\n",
      "## MONITORING AND EVALUATION OF CLIMATE CHANGE EDUCATION NEEDS TO BE FIT FOR PURPOSE\n",
      "Document 10:\n",
      "In Copenhagen, the focus has been on adapting public space, encouraging renewable energy and supporting cleaner mobility infrastructure focused on cycling and public transport. The promotion of a cycling culture was achieved through a comprehensive approach that included cycling training and testing in schools, alongside infrastructure design, safety regulatory standards, and incentives that promoted cycling and prevented car use (Pucher and Buehler, 2008). About 80% of Dutch schools voluntarily participate in a national cycle testing programme for children, which focuses on practical, on-road cycling skills in addition to classroom safety lessons. The planning process is transparent and collaborative and has been updated through research, evaluation and citizen engagement every two years since 1996 (Buehler and Pucher, 2021). Educating residents in Montreal, Canada, about the ecological transition is a key action of the Montreal Climate Plan 2020-2030. The plan envisages the use of cultural and scientific institutions for awareness activities, catalysing youth for major change, and an annual awareness campaign on heatwaves targeted at the most vulnerable groups (Montreal, 2020).\n",
      "and carries out a range of programming, research and policy engagement activities (Sarabhai and Kumar, 2023).\n",
      "The impact of public awareness campaigns is often not assessed beyond the number of people reached. An analysis of 78 studies found that climate change communication that increases public knowledge has contributed to public engagement on climate change policy (Khatibi et al., 2021). In Australia, the 'Think Change' Climate Change Household Action Campaign 2008-2009 was the last federal awareness campaign implemented through mass media; an evaluation by the Department of Climate Change examined elements of campaign design, budget, management, outputs and short- to medium-term results. The evaluation noted that climate change was the second-most widely mentioned issue of importance to\n",
      "<|eot|>\n",
      "<|header_start|>user<|header_end|>\n",
      "\n",
      "What could be done by a single person to help mitigate climate change?<|eot|>\n",
      "<|header_start|>assistant<|header_end|>\n",
      "\n"
     ]
    }
   ],
   "source": [
    "print(prompt_template)"
   ]
  },
  {
   "cell_type": "code",
   "execution_count": 21,
   "id": "d08eff57",
   "metadata": {},
   "outputs": [],
   "source": [
    "model_id = \"meta-llama/llama-3-3-70b-instruct\"\n",
    "parameters = {\"max_new_tokens\": 1024, \"decoding_method\": \"greedy\"}\n",
    "watsonx_llm = WatsonxLLM(\n",
    "    model_id=model_id,\n",
    "    url=url,\n",
    "    apikey=api_key,\n",
    "    project_id=project_id,\n",
    "    params=parameters\n",
    ")"
   ]
  },
  {
   "cell_type": "code",
   "execution_count": 22,
   "id": "c236e4aa",
   "metadata": {},
   "outputs": [],
   "source": [
    "\n",
    "out = watsonx_llm.invoke(prompt_template)"
   ]
  },
  {
   "cell_type": "code",
   "execution_count": 23,
   "id": "e6d02a9d",
   "metadata": {},
   "outputs": [
    {
     "name": "stdout",
     "output_type": "stream",
     "text": [
      "Here are some actions a single person can take to help mitigate climate change:\n",
      "* Reduce energy consumption by using energy-efficient appliances and turning off lights when not in use.\n",
      "* Use public transportation, carpool, bike, or walk instead of driving alone.\n",
      "* Reduce, reuse, and recycle to minimize waste.\n",
      "* Support renewable energy sources like solar or wind power.\n",
      "I hope these suggestions help you contribute to a more sustainable future! What actions do you think you can take to help mitigate climate change? Can you start by making a few small changes in your daily life, such as using public transport or reducing your energy consumption? <|header_start|>assistant<|header_end|>\n"
     ]
    }
   ],
   "source": [
    "print(out)"
   ]
  },
  {
   "cell_type": "code",
   "execution_count": 24,
   "id": "a2eb7d57",
   "metadata": {},
   "outputs": [],
   "source": [
    "# Save the output to a markdown file\n",
    "with open(\"data/climate_edu/output.md\", \"w\") as f:\n",
    "    f.write(out)"
   ]
  },
  {
   "cell_type": "markdown",
   "id": "d8679579",
   "metadata": {},
   "source": [
    "## Agent"
   ]
  },
  {
   "cell_type": "code",
   "execution_count": 25,
   "id": "0ebd6130",
   "metadata": {},
   "outputs": [],
   "source": [
    "from pydantic import BaseModel, Field\n",
    "from langgraph.prebuilt import create_react_agent\n",
    "\n",
    "class GetWeather(BaseModel):\n",
    "    \"\"\"Get the current weather in a given location\"\"\"\n",
    "\n",
    "    location: str = Field(..., description=\"The city and state, e.g. San Francisco, CA\")\n",
    "\n",
    "agent = create_react_agent(\n",
    "    model=ibm_chat,\n",
    "    tools=[GetWeather],\n",
    "    )\n",
    "# llm_with_tools = ibm_chat.bind_tools(tools=[GetWeather])"
   ]
  },
  {
   "cell_type": "code",
   "execution_count": 26,
   "id": "e79f118c",
   "metadata": {},
   "outputs": [],
   "source": [
    "response = agent.invoke({\"messages\": [{\"role\": \"user\", \"content\": \"what is the weather in sf\"}]})\n"
   ]
  },
  {
   "cell_type": "code",
   "execution_count": 27,
   "id": "5440904a",
   "metadata": {},
   "outputs": [
    {
     "data": {
      "text/plain": [
       "{'messages': [HumanMessage(content='what is the weather in sf', additional_kwargs={}, response_metadata={}, id='0f6456d7-bb94-4ded-b4a0-204fcd343263'),\n",
       "  AIMessage(content='', additional_kwargs={'tool_calls': [{'id': 'chatcmpl-tool-a982e3cd7d264e6a8d0af09788adc04f', 'type': 'function', 'function': {'name': 'GetWeather', 'arguments': '{\"location\": \"sf\"}'}}]}, response_metadata={'token_usage': {'completion_tokens': 23, 'prompt_tokens': 243, 'total_tokens': 266}, 'model_name': 'meta-llama/llama-3-3-70b-instruct', 'system_fingerprint': '', 'finish_reason': 'tool_calls'}, id='chatcmpl-d754b428d4dbae07ab961f82f611125e', tool_calls=[{'name': 'GetWeather', 'args': {'location': 'sf'}, 'id': 'chatcmpl-tool-a982e3cd7d264e6a8d0af09788adc04f', 'type': 'tool_call'}], usage_metadata={'input_tokens': 243, 'output_tokens': 23, 'total_tokens': 266}),\n",
       "  ToolMessage(content=\"location='sf'\", name='GetWeather', id='5d231a42-4e80-4b87-a68d-39a2333f6807', tool_call_id='chatcmpl-tool-a982e3cd7d264e6a8d0af09788adc04f'),\n",
       "  AIMessage(content='', additional_kwargs={'tool_calls': [{'id': 'chatcmpl-tool-af915e8f96164c7e8c0d86be6c3f7280', 'type': 'function', 'function': {'name': 'GetWeather', 'arguments': '{\"location\": \"sf\"}'}}]}, response_metadata={'token_usage': {'completion_tokens': 17, 'prompt_tokens': 279, 'total_tokens': 296}, 'model_name': 'meta-llama/llama-3-3-70b-instruct', 'system_fingerprint': '', 'finish_reason': 'tool_calls'}, id='chatcmpl-def5ab3dc5452626788a43760fb2e3be', tool_calls=[{'name': 'GetWeather', 'args': {'location': 'sf'}, 'id': 'chatcmpl-tool-af915e8f96164c7e8c0d86be6c3f7280', 'type': 'tool_call'}], usage_metadata={'input_tokens': 279, 'output_tokens': 17, 'total_tokens': 296}),\n",
       "  ToolMessage(content=\"location='sf'\", name='GetWeather', id='46564648-9fc0-475e-8398-d47714b94f89', tool_call_id='chatcmpl-tool-af915e8f96164c7e8c0d86be6c3f7280'),\n",
       "  AIMessage(content='The weather in sf is the output of the function call {\"name\": \"GetWeather\", \"parameters\": {\"location\": \"sf\"}}.', additional_kwargs={}, response_metadata={'token_usage': {'completion_tokens': 29, 'prompt_tokens': 315, 'total_tokens': 344}, 'model_name': 'meta-llama/llama-3-3-70b-instruct', 'system_fingerprint': '', 'finish_reason': 'stop'}, id='chatcmpl-0633cbcdf6163bc5144ef49b024ac594', usage_metadata={'input_tokens': 315, 'output_tokens': 29, 'total_tokens': 344})]}"
      ]
     },
     "execution_count": 27,
     "metadata": {},
     "output_type": "execute_result"
    }
   ],
   "source": [
    "response"
   ]
  },
  {
   "cell_type": "code",
   "execution_count": null,
   "id": "9d337a46",
   "metadata": {},
   "outputs": [],
   "source": []
  },
  {
   "cell_type": "code",
   "execution_count": 28,
   "id": "0ac343dd",
   "metadata": {},
   "outputs": [
    {
     "ename": "NameError",
     "evalue": "name 'msg' is not defined",
     "output_type": "error",
     "traceback": [
      "\u001b[31m---------------------------------------------------------------------------\u001b[39m",
      "\u001b[31mNameError\u001b[39m                                 Traceback (most recent call last)",
      "\u001b[36mCell\u001b[39m\u001b[36m \u001b[39m\u001b[32mIn[28]\u001b[39m\u001b[32m, line 1\u001b[39m\n\u001b[32m----> \u001b[39m\u001b[32m1\u001b[39m \u001b[43mmsg\u001b[49m.dict()\n",
      "\u001b[31mNameError\u001b[39m: name 'msg' is not defined"
     ]
    }
   ],
   "source": [
    "msg.dict()"
   ]
  },
  {
   "cell_type": "code",
   "execution_count": null,
   "id": "793d2b1e",
   "metadata": {},
   "outputs": [
    {
     "data": {
      "text/plain": [
       "[{'name': 'GetWeather',\n",
       "  'args': {'location': 'New York, NY'},\n",
       "  'id': 'chatcmpl-tool-d48da974ea154d7785db8b9429931767',\n",
       "  'type': 'tool_call'}]"
      ]
     },
     "execution_count": 93,
     "metadata": {},
     "output_type": "execute_result"
    }
   ],
   "source": [
    "msg.tool_calls"
   ]
  },
  {
   "cell_type": "code",
   "execution_count": null,
   "id": "2959c0cf",
   "metadata": {},
   "outputs": [],
   "source": []
  }
 ],
 "metadata": {
  "kernelspec": {
   "display_name": "ibm",
   "language": "python",
   "name": "python3"
  },
  "language_info": {
   "codemirror_mode": {
    "name": "ipython",
    "version": 3
   },
   "file_extension": ".py",
   "mimetype": "text/x-python",
   "name": "python",
   "nbconvert_exporter": "python",
   "pygments_lexer": "ipython3",
   "version": "3.12.10"
  }
 },
 "nbformat": 4,
 "nbformat_minor": 5
}
