{
 "cells": [
  {
   "cell_type": "markdown",
   "metadata": {},
   "source": [
    "# RAG Pipeline using LlamaCPP and FAISS"
   ]
  },
  {
   "cell_type": "code",
   "execution_count": 1,
   "metadata": {},
   "outputs": [
    {
     "name": "stderr",
     "output_type": "stream",
     "text": [
      "[nltk_data] Downloading package punkt to /Users/hubboko/nltk_data...\n",
      "[nltk_data]   Package punkt is already up-to-date!\n"
     ]
    },
    {
     "data": {
      "text/plain": [
       "True"
      ]
     },
     "execution_count": 1,
     "metadata": {},
     "output_type": "execute_result"
    }
   ],
   "source": [
    "import os\n",
    "from unstructured.partition.auto import partition\n",
    "from docx import Document as DocxDocument\n",
    "import fitz\n",
    "from llama_cpp import Llama\n",
    "import faiss\n",
    "import numpy as np\n",
    "import nltk\n",
    "from langchain_huggingface import HuggingFaceEmbeddings\n",
    "from langchain_community.vectorstores import FAISS\n",
    "from langchain_experimental.text_splitter import SemanticChunker\n",
    "from langchain_community.docstore.in_memory import InMemoryDocstore\n",
    "\n",
    "\n",
    "nltk.download(\"punkt\")"
   ]
  },
  {
   "cell_type": "code",
   "execution_count": 2,
   "metadata": {},
   "outputs": [],
   "source": [
    "def load_document(file_path):\n",
    "    ext = os.path.splitext(file_path)[1].lower()\n",
    "\n",
    "    if ext == \".pdf\":\n",
    "        return load_pdf(file_path)\n",
    "    elif ext == \".docx\":\n",
    "        return load_docx(file_path)\n",
    "    elif ext == \".txt\" or ext == \".md\":\n",
    "        return load_txt(file_path)\n",
    "    else:\n",
    "        raise ValueError(f\"Unsupported file type: {ext}\")\n",
    "\n",
    "def load_pdf(path):\n",
    "    doc = fitz.open(path)\n",
    "    texts = [page.get_text() for page in doc]\n",
    "    return [t.strip() for t in texts if t.strip()]\n",
    "\n",
    "def load_docx(path):\n",
    "    doc = DocxDocument(path)\n",
    "    paragraphs = []\n",
    "    for p in doc.paragraphs:\n",
    "        if p.text and p.text.strip():\n",
    "            paragraphs.append(p.text.strip())\n",
    "    return paragraphs\n",
    "\n",
    "def load_txt(path):\n",
    "    with open(path, 'r', encoding='utf-8') as f:\n",
    "        text = f.read()\n",
    "    return [para.strip() for para in text.split('\\n\\n') if para.strip()]\n",
    "\n",
    "def load_fallback_unstructured(path):\n",
    "    elements = partition(filename=path)\n",
    "    return [str(el).strip() for el in elements if str(el).strip()]"
   ]
  },
  {
   "cell_type": "code",
   "execution_count": 5,
   "metadata": {},
   "outputs": [],
   "source": [
    "embedding_model = HuggingFaceEmbeddings(model_name=\"BAAI/bge-m3\")\n",
    "text_splitter = SemanticChunker(embeddings=embedding_model)\n",
    "\n",
    "data = load_document(\"./dummy2.docx\")\n",
    "\n",
    "semantic_chunks = text_splitter.create_documents(data)\n"
   ]
  },
  {
   "cell_type": "code",
   "execution_count": 6,
   "metadata": {},
   "outputs": [],
   "source": [
    "# 1. Embed semantic chunks\n",
    "texts = [doc.page_content for doc in semantic_chunks]\n",
    "embeddings = embedding_model.embed_documents(texts)\n",
    "\n",
    "# 2. Create FAISS index\n",
    "index = faiss.IndexFlatL2(len(embeddings[0]))\n",
    "index.add(np.array(embeddings).astype(\"float32\"))\n",
    "\n",
    "# 3. Map index IDs to docstore IDs\n",
    "index_to_docstore_id = {str(i): str(i) for i in range(len(semantic_chunks))}\n",
    "docstore = InMemoryDocstore({str(i): doc for i, doc in enumerate(semantic_chunks)})\n",
    "\n",
    "# 4. Create LangChain FAISS vector store\n",
    "vector_store = FAISS(\n",
    "    embedding_function=embedding_model,\n",
    "    index=index,\n",
    "    docstore=docstore,\n",
    "    index_to_docstore_id=index_to_docstore_id\n",
    ")\n",
    "\n",
    "# 5. Save vector store to disk\n",
    "vector_store.save_local(\"./index_faiss\")\n"
   ]
  },
  {
   "cell_type": "code",
   "execution_count": 7,
   "metadata": {},
   "outputs": [
    {
     "name": "stderr",
     "output_type": "stream",
     "text": [
      "llama_context: n_ctx_per_seq (8192) < n_ctx_train (131072) -- the full capacity of the model will not be utilized\n",
      "ggml_metal_init: skipping kernel_get_rows_bf16                     (not supported)\n",
      "ggml_metal_init: skipping kernel_mul_mv_bf16_f32                   (not supported)\n",
      "ggml_metal_init: skipping kernel_mul_mv_bf16_f32_1row              (not supported)\n",
      "ggml_metal_init: skipping kernel_mul_mv_bf16_f32_l4                (not supported)\n",
      "ggml_metal_init: skipping kernel_mul_mv_bf16_bf16                  (not supported)\n",
      "ggml_metal_init: skipping kernel_mul_mv_id_bf16_f32                (not supported)\n",
      "ggml_metal_init: skipping kernel_mul_mm_bf16_f32                   (not supported)\n",
      "ggml_metal_init: skipping kernel_mul_mm_id_bf16_f32                (not supported)\n",
      "ggml_metal_init: skipping kernel_flash_attn_ext_bf16_h64           (not supported)\n",
      "ggml_metal_init: skipping kernel_flash_attn_ext_bf16_h80           (not supported)\n",
      "ggml_metal_init: skipping kernel_flash_attn_ext_bf16_h96           (not supported)\n",
      "ggml_metal_init: skipping kernel_flash_attn_ext_bf16_h112          (not supported)\n",
      "ggml_metal_init: skipping kernel_flash_attn_ext_bf16_h128          (not supported)\n",
      "ggml_metal_init: skipping kernel_flash_attn_ext_bf16_h192          (not supported)\n",
      "ggml_metal_init: skipping kernel_flash_attn_ext_bf16_hk192_hv128   (not supported)\n",
      "ggml_metal_init: skipping kernel_flash_attn_ext_bf16_h256          (not supported)\n",
      "ggml_metal_init: skipping kernel_flash_attn_ext_bf16_hk576_hv512   (not supported)\n",
      "ggml_metal_init: skipping kernel_flash_attn_ext_vec_bf16_h96       (not supported)\n",
      "ggml_metal_init: skipping kernel_flash_attn_ext_vec_bf16_h128      (not supported)\n",
      "ggml_metal_init: skipping kernel_flash_attn_ext_vec_bf16_h192      (not supported)\n",
      "ggml_metal_init: skipping kernel_flash_attn_ext_vec_bf16_hk192_hv128 (not supported)\n",
      "ggml_metal_init: skipping kernel_flash_attn_ext_vec_bf16_h256      (not supported)\n",
      "ggml_metal_init: skipping kernel_flash_attn_ext_vec_bf16_hk576_hv512 (not supported)\n",
      "ggml_metal_init: skipping kernel_cpy_f32_bf16                      (not supported)\n",
      "ggml_metal_init: skipping kernel_cpy_bf16_f32                      (not supported)\n",
      "ggml_metal_init: skipping kernel_cpy_bf16_bf16                     (not supported)\n"
     ]
    },
    {
     "name": "stdout",
     "output_type": "stream",
     "text": [
      "\n",
      "Answer: Parham Jabari is the founder of PJ Logistik GmbH. He started his career as a parcel delivery driver for various companies, including DHL, DPD, Austrian Post AG, and UPS.\n"
     ]
    }
   ],
   "source": [
    "INDEX_PATH = \"faiss_index\"\n",
    "LLAMA_PATH = \"/Users/hubboko/Documents/rag_practice_local_model_llama/llama.cpp/models/llama3.1/Defne-llama3.1-8B.Q5_K_M.gguf\"\n",
    "\n",
    "embedder = HuggingFaceEmbeddings(model_name=\"BAAI/bge-m3\")\n",
    "\n",
    "vector_store = FAISS.load_local(\n",
    "    \"./index_faiss\",\n",
    "    embeddings=embedding_model,\n",
    "    allow_dangerous_deserialization=True\n",
    ")\n",
    "\n",
    "\n",
    "index = vector_store.index\n",
    "docstore = vector_store.docstore\n",
    "index_to_id = vector_store.index_to_docstore_id\n",
    "\n",
    "llm = Llama(\n",
    "    model_path=LLAMA_PATH,\n",
    "    n_ctx=8192,\n",
    "    n_threads=12,\n",
    "    n_gpu_layers=16,\n",
    "    verbose=False\n",
    ")\n",
    "\n",
    "def rag_query(user_query, top_k=5):\n",
    "    query_vec = embedder.embed_query(user_query)\n",
    "    D, I = index.search(np.array([query_vec]), top_k)\n",
    "\n",
    "    context_chunks = [\n",
    "        docstore.search(index_to_id[str(i)]).page_content for i in I[0]\n",
    "    ]\n",
    "\n",
    "    context = \"\\n\".join(context_chunks)\n",
    "\n",
    "    prompt = f\"\"\"<|begin_of_text|><|start_header_id|>system<|end_header_id|>\n",
    "You are a helpful and concise AI assistant embedded in a web application. Use the provided context to answer each user question as accurately and briefly as possible. If the context does not contain the answer, respond with: \"Sorry, I cannot assist you.\" Always return only the single most relevant answer.\n",
    "Answer the queries with the same user's input language no matter the context's language.\n",
    "<|start_header_id|>user<|end_header_id|>\n",
    "Context:\n",
    "{context}\n",
    "\n",
    "Question:\n",
    "{user_query}\n",
    "\n",
    "<|start_header_id|>assistant<|end_header_id|>\n",
    "\"\"\"\n",
    "\n",
    "    output = llm(\n",
    "        prompt,\n",
    "        max_tokens=250,\n",
    "        temperature=0,\n",
    "        top_p=0.9,\n",
    "        top_k=5,\n",
    "        stop=[\"Q:\", \"\\n\"],\n",
    "        repeat_penalty=1.1\n",
    "    )\n",
    "    return output['choices'][0]['text'].strip()\n",
    "\n",
    "# Optional CLI mode\n",
    "if __name__ == \"__main__\":\n",
    "    question = input(\"Ask a question: \")\n",
    "    answer = rag_query(question)\n",
    "    print(\"\\nAnswer:\", answer)\n"
   ]
  },
  {
   "cell_type": "code",
   "execution_count": null,
   "metadata": {},
   "outputs": [],
   "source": []
  }
 ],
 "metadata": {
  "kernelspec": {
   "display_name": "ragpipe",
   "language": "python",
   "name": "python3"
  },
  "language_info": {
   "codemirror_mode": {
    "name": "ipython",
    "version": 3
   },
   "file_extension": ".py",
   "mimetype": "text/x-python",
   "name": "python",
   "nbconvert_exporter": "python",
   "pygments_lexer": "ipython3",
   "version": "3.12.9"
  }
 },
 "nbformat": 4,
 "nbformat_minor": 2
}
