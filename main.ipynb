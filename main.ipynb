{
 "cells": [
  {
   "cell_type": "code",
   "execution_count": null,
   "id": "27690643",
   "metadata": {},
   "outputs": [],
   "source": [
    "# import os, getpass\n",
    "import chromadb\n",
    "from ibm_watsonx_ai import Credentials, APIClient\n",
    "from langchain_chroma import Chroma\n",
    "from langchain_core.documents import Document\n",
    "from uuid import uuid4\n",
    "from langchain_text_splitters import MarkdownTextSplitter\n",
    "from langchain_community.document_loaders import TextLoader\n",
    "from langchain_ibm import WatsonxEmbeddings\n",
    "from ibm_watsonx_ai.foundation_models.utils.enums import ModelTypes\n",
    "from ibm_watsonx_ai.metanames import GenTextParamsMetaNames as GenParams\n",
    "from ibm_watsonx_ai.foundation_models.utils.enums import DecodingMethods\n",
    "from langchain_ibm import ChatWatsonx\n",
    "# from langchain.chains import RetrievalQAjin\n",
    "from langchain_ibm import WatsonxEmbeddings\n",
    "from ibm_watsonx_ai.foundation_models.schema import TextChatParameters\n",
    "from langchain_experimental.text_splitter import SemanticChunker\n",
    "from langchain_huggingface import HuggingFaceEmbeddings\n",
    "from transformers import AutoTokenizer\n",
    "from docling.document_converter import DocumentConverter\n",
    "from utils import *\n",
    "PAGE_BREAK = \"<!-- page break -->\""
   ]
  },
  {
   "cell_type": "code",
   "execution_count": 2,
   "id": "a9994a8f",
   "metadata": {},
   "outputs": [],
   "source": [
    "api_key=\"VPryyL4t508YQ_pJQNCU0m23Yctctahrqo2pjT5BMQkV\"\n",
    "url=\"https://us-south.ml.cloud.ibm.com\"\n",
    "project_id = \"6552c3bb-a35a-4bf3-8430-c42828d59a06\""
   ]
  },
  {
   "cell_type": "markdown",
   "id": "ff9351d5",
   "metadata": {},
   "source": [
    "## Load documents"
   ]
  },
  {
   "cell_type": "code",
   "execution_count": 5,
   "id": "c1ba22f1",
   "metadata": {},
   "outputs": [
    {
     "name": "stderr",
     "output_type": "stream",
     "text": [
      "/Users/hubboko/miniconda3/envs/ibm/lib/python3.12/site-packages/torch/utils/data/dataloader.py:683: UserWarning: 'pin_memory' argument is set as true but not supported on MPS now, then device pinned memory won't be used.\n",
      "  warnings.warn(warn_msg)\n",
      "/Users/hubboko/miniconda3/envs/ibm/lib/python3.12/site-packages/numpy/_core/fromnumeric.py:3860: RuntimeWarning: Mean of empty slice.\n",
      "  return _methods._mean(a, axis=axis, dtype=dtype,\n",
      "/Users/hubboko/miniconda3/envs/ibm/lib/python3.12/site-packages/numpy/_core/_methods.py:145: RuntimeWarning: invalid value encountered in scalar divide\n",
      "  ret = ret.dtype.type(ret / rcount)\n",
      "/Users/hubboko/miniconda3/envs/ibm/lib/python3.12/site-packages/docling/pipeline/standard_pdf_pipeline.py:262: RuntimeWarning: Mean of empty slice\n",
      "  np.nanmean(\n"
     ]
    }
   ],
   "source": [
    "## TODO DONE: preserve metadata e.g. page number, chunking should probably be done per page\n",
    "\n",
    "file_path = \"data/climate_edu/389801eng.pdf\"\n",
    "converter = DocumentConverter()\n",
    "result = converter.convert(file_path)\n",
    "doc = result.document\n"
   ]
  },
  {
   "cell_type": "code",
   "execution_count": 6,
   "id": "cbbdb506",
   "metadata": {},
   "outputs": [],
   "source": [
    "doc_name = doc.name"
   ]
  },
  {
   "cell_type": "code",
   "execution_count": 7,
   "id": "cc0b2175",
   "metadata": {},
   "outputs": [],
   "source": [
    "doc_md = doc.export_to_markdown(page_break_placeholder=PAGE_BREAK, image_placeholder=\"\",)\n",
    "with open(\"data/climate_edu/389801eng.md\", \"w\") as f:\n",
    "    f.write(doc_md)\n",
    "\n",
    "pages = doc_md.split(PAGE_BREAK)\n",
    "pages = [markdown_cleanup(page) for page in pages]\n"
   ]
  },
  {
   "cell_type": "markdown",
   "id": "8507380b",
   "metadata": {},
   "source": [
    "## Chunk"
   ]
  },
  {
   "cell_type": "code",
   "execution_count": 8,
   "id": "0c61028e",
   "metadata": {},
   "outputs": [],
   "source": [
    "## TODO DONE: change model to granite embed\n",
    "tokenizer = AutoTokenizer.from_pretrained(\n",
    "    \"ibm-granite/granite-embedding-278m-multilingual\"\n",
    ")\n",
    "max_length = tokenizer.model_max_length\n",
    "chunk_overlap_length = int(max_length / 10)\n",
    "chunk_size_length = max_length - chunk_overlap_length\n",
    "markdown_splitter = MarkdownTextSplitter.from_huggingface_tokenizer(\n",
    "    tokenizer=tokenizer,\n",
    "    chunk_size=chunk_size_length,\n",
    "    chunk_overlap=int(max_length/10)\n",
    ")"
   ]
  },
  {
   "cell_type": "code",
   "execution_count": 9,
   "id": "b05e5869",
   "metadata": {},
   "outputs": [
    {
     "name": "stderr",
     "output_type": "stream",
     "text": [
      "Token indices sequence length is longer than the specified maximum sequence length for this model (535 > 512). Running this sequence through the model will result in indexing errors\n"
     ]
    }
   ],
   "source": [
    "chunked_docs = []\n",
    "for i, page in enumerate(pages):\n",
    "    chunks = markdown_splitter.split_text(page)\n",
    "    for j, chunk in enumerate(chunks):\n",
    "        document = Document(\n",
    "            page_content=chunk,\n",
    "            embeddings=tokenizer.encode(chunk, add_special_tokens=False),\n",
    "            metadata={\n",
    "                \"source\": doc_name,\n",
    "                \"page\": i + 1,\n",
    "                \"chunk\": j + 1\n",
    "            }\n",
    "        )\n",
    "        chunked_docs.append(document)"
   ]
  },
  {
   "cell_type": "markdown",
   "id": "552b73eb",
   "metadata": {},
   "source": [
    "## Ingest"
   ]
  },
  {
   "cell_type": "code",
   "execution_count": 10,
   "id": "96bab72e",
   "metadata": {},
   "outputs": [],
   "source": [
    "embedder = WatsonxEmbeddings(\n",
    "    url=url,\n",
    "    apikey=api_key,\n",
    "    project_id=project_id,\n",
    "    model_id=\"ibm/granite-embedding-278m-multilingual\"\n",
    ")"
   ]
  },
  {
   "cell_type": "code",
   "execution_count": 11,
   "id": "8de3ef64",
   "metadata": {},
   "outputs": [],
   "source": [
    "vector_store = Chroma(\n",
    "    collection_name=\"climate_edu\",\n",
    "    persist_directory=\"data/chroma_db\",\n",
    "    embedding_function=embedder\n",
    ")"
   ]
  },
  {
   "cell_type": "code",
   "execution_count": 12,
   "id": "b2c3d2f5",
   "metadata": {},
   "outputs": [
    {
     "data": {
      "text/plain": [
       "['23962db0-8330-4314-a404-04367c3e9c9d',\n",
       " '77a82c22-caf8-4ac8-9232-a300c3ff70bd',\n",
       " '72c94779-9480-4765-b8a4-fd92603ca6c2',\n",
       " 'de173c56-4b24-4a7d-97ba-aa09c729171b',\n",
       " 'd0fb7b79-f50c-478a-ba6f-8a01e501f847',\n",
       " '77560afe-f701-4165-b040-81c7ece7afb7',\n",
       " '18e94413-484e-4e97-988f-804a3f19e2de',\n",
       " '1d42a1f7-62f0-4323-9185-0009bf7b5699',\n",
       " '0d31519f-8ff5-4ce1-81e8-a0049bdccd95',\n",
       " 'bf8a0f06-ef58-40cd-b106-9ecc7f296f91',\n",
       " '70c2fbd8-d9aa-462d-85d5-84b185cfbe0e',\n",
       " '1bd84e39-5a8c-4a5c-94f6-cc16c1c1a206',\n",
       " 'de23fa4c-8acb-4c8f-8236-c442301aa07f',\n",
       " 'ebb7d0be-6385-4b33-b9b4-1e6db7073c57',\n",
       " 'b6777b97-0625-47e3-9813-42c94d3f807b',\n",
       " '8f24417d-0603-4d53-b8f2-b52f5f5ef62b',\n",
       " '634f7c72-f103-485b-b2f6-2670920facae',\n",
       " 'ffce595b-f8b0-4398-8087-f20d8e8b1f59',\n",
       " 'fa23f5af-3aa3-48a8-a9ba-787cba44ab97',\n",
       " 'ee4a11cf-9e17-451c-b42a-bbe49857c731',\n",
       " '340c1a69-7501-4641-9092-38a9abf18897',\n",
       " '0fd328be-0d56-4df9-a2ab-1dd32c6a3f66',\n",
       " '3475617d-d952-410f-8f68-7bb683ab3811',\n",
       " '015bd5ab-7bc3-469a-a85d-4d4f7852b681',\n",
       " 'ee43d0a1-99ff-427f-96a9-12b7b6434cb9',\n",
       " 'a6cfa878-0ad8-491f-b5c2-ef4efc72f82d',\n",
       " 'faab0bca-1f1a-4c60-91cc-77bc1e1170a3',\n",
       " 'ec0ce983-959d-4d72-be01-741a81dac1ff',\n",
       " '8ad3ac36-c58e-499a-9273-08d1f4e95387',\n",
       " 'efe2dff9-55ad-4e44-8d4e-afaf3247a140',\n",
       " '363bd10d-c769-43fa-884f-8fd87248e23a',\n",
       " '118e7bc8-99ae-465e-92e4-50c68e03c0bc',\n",
       " '08d8efb1-a70d-486c-b135-fb9b0e40d386',\n",
       " 'b6615183-4ee1-44a0-93f2-03b702793771',\n",
       " 'a293ed0f-2da7-46b1-9278-c1505e3101be',\n",
       " '76f3c28c-4977-4b3f-8e24-4cd69dd73150',\n",
       " 'e7928dca-11ab-4325-821c-4c8a931e95a2',\n",
       " 'd1beecea-9ce6-4804-bcf0-baf95d6042c9',\n",
       " '481a1577-6d80-41dd-979f-1a92db373372',\n",
       " '3b593d3f-0606-4363-ae65-319c7ef34148',\n",
       " '8b53fe39-f6bb-43e3-94f1-7c3e97bbe750',\n",
       " '9c4eaa78-d32a-4007-9776-f9127d1a40e0',\n",
       " 'a942f719-dd42-4270-8f75-c9e3addd3378',\n",
       " '9e6450a9-d9f6-4229-ad21-3d00397f88b0',\n",
       " 'de84b584-6f8c-4c82-b3c7-5a2874c57232',\n",
       " 'a7a8a4e4-48f8-47a6-b257-4f57d8923bfe',\n",
       " 'ac83e50c-8ad9-43ea-8532-f7de94c62907',\n",
       " '4d7ddfc9-3c81-4528-86f3-9173e3c1cc03',\n",
       " '0e6149bb-869e-4913-b8d2-40a6e21fc1a2',\n",
       " '0d7ce2a5-8232-4025-a288-8a0b88556cbe',\n",
       " '5017e209-677b-4454-9903-2843479d9354',\n",
       " '9a996ba8-5bac-4540-a2c7-b58d61360ee7',\n",
       " '22416fe2-e323-48a4-97de-c49aef1ead9d',\n",
       " 'c3607d4d-5a7b-4e98-818c-190e38f2aaa1',\n",
       " '23615ee8-4bf3-454e-825f-784b9378aef2',\n",
       " '2193b7db-51df-4c12-8b23-e8d795759149',\n",
       " '6aaed486-6d3b-4b78-a4db-dc03af7433d8',\n",
       " 'c33c4cb7-c0fa-4ca6-b86f-fe0775dc2b96',\n",
       " '7b5a011a-320b-472e-a589-56a0f0ee311f',\n",
       " '65fe0ce2-ec5c-4856-8a0d-337f080c5f99',\n",
       " '6b712a72-dba5-4d09-ab17-c66b23b17be3',\n",
       " 'd3e8ede1-21b1-4684-9493-bf4d31b73e05',\n",
       " '4c50ecef-a7e1-4efe-9e8e-161360449889',\n",
       " '6212ea69-574a-4e9d-81ae-a9b39d72479e',\n",
       " 'bd080c59-cf10-44f0-b740-bba4d4879f12',\n",
       " 'cfff5f59-f3d0-423c-b39c-02c0bb5dfc15',\n",
       " '8d44a5a1-b3f2-482c-9419-f08e45a7d00d',\n",
       " '0b1b825e-868c-4254-abcc-244ae404bd16',\n",
       " '41779b0e-8d92-4120-bd5f-9b6af3d3af36',\n",
       " 'a6dd4caa-4ae9-4e2c-88d4-d1d33d075aa2',\n",
       " '3b537e46-14d5-433b-860b-ea1d504e8634',\n",
       " '846ae4c5-86ff-454a-9761-76b3e2a3c34b',\n",
       " 'c33beeff-6b45-4c3a-8a9e-61ec62f1ea9f',\n",
       " '97d4572b-4066-455f-9307-f3c32bafdf48',\n",
       " 'cd2cc011-80cf-4621-b9cd-f2994b46b5d6',\n",
       " '2f204f33-73b5-4a8e-8425-5525f4622ff7',\n",
       " 'e7e94a6d-8f70-4753-877c-f5288563659f',\n",
       " 'd5337323-1158-40d8-9092-7d7a8e004f5e',\n",
       " 'e93f8211-0a85-49de-ae08-538764b8744b',\n",
       " '0e8baf08-3b04-4038-9905-8884ee288af4',\n",
       " '55a70d25-a08f-48af-82ba-3c8a47a5828f',\n",
       " 'd992171d-09db-44d8-9df5-6422f14294a0',\n",
       " '51290430-3ca1-41f6-b2ef-41076d89e658',\n",
       " 'd5d6e758-74f9-475c-adbe-d2db625a757b',\n",
       " '883123d4-a83a-4de5-960e-7aded790e8d3',\n",
       " '34d91f3b-a8b2-45de-b2c1-ea01ac1236fc',\n",
       " 'b35f55d9-a7c9-40dc-8dd2-7c9e1dad7b3c',\n",
       " 'd071ff69-e883-4764-b825-db5d8609af91',\n",
       " '85bb8972-333c-4beb-b50b-42272c2320bd',\n",
       " '738610bb-943a-4d05-8806-7fa0db1bc483',\n",
       " '1dff70b5-7e9d-49f8-802d-da3d17be1c1a',\n",
       " 'ebadde0a-bed7-4988-8610-acf614340267',\n",
       " 'ecf32594-51eb-44bf-b1a5-971f486c4124',\n",
       " '78121b23-2ff8-4f7e-90f8-0cb43f8cc1c0',\n",
       " '6475951c-5cdb-4e13-b2ed-bb83bdd8f8eb',\n",
       " 'f5188897-2440-44a1-bac6-8a184ba19322',\n",
       " '0be0f540-0bb9-404f-937e-4e78fadbba59',\n",
       " '9f4076f1-9782-489b-a907-d64b58c217e3']"
      ]
     },
     "execution_count": 12,
     "metadata": {},
     "output_type": "execute_result"
    }
   ],
   "source": [
    "vector_store.add_documents(chunked_docs)"
   ]
  },
  {
   "cell_type": "markdown",
   "id": "2148cd35",
   "metadata": {},
   "source": [
    "## Retrieval"
   ]
  },
  {
   "cell_type": "code",
   "execution_count": 52,
   "id": "1fff87cc",
   "metadata": {},
   "outputs": [],
   "source": [
    "user_query = \"What could be done by a single person to help mitigate climate change?\""
   ]
  },
  {
   "cell_type": "code",
   "execution_count": 53,
   "id": "25c1fd06",
   "metadata": {},
   "outputs": [],
   "source": [
    "retriever = vector_store.similarity_search(\n",
    "    user_query,\n",
    "    k=2,\n",
    ")"
   ]
  },
  {
   "cell_type": "markdown",
   "id": "99f9e35c",
   "metadata": {},
   "source": [
    "## Augmentation"
   ]
  },
  {
   "cell_type": "code",
   "execution_count": 69,
   "id": "458474b6",
   "metadata": {},
   "outputs": [],
   "source": [
    "prompt_template = \"\"\"<|begin_of_text|><|start_header_id|>system<|end_header_id|>\n",
    "You are a teacher who provide information on climate change, its impacts, and actions individuals can take to mitigate it. Use the provided context to answer each user question as accurately and briefly as possible. If the context does not contain the answer, respond with: \"Sorry, I cannot assist you.\"\n",
    "Answer the queries with the same user's input language no matter the context's language.\n",
    "Always answer in markdown format, using bullet points for lists and bold for important facts. If the context is not sufficient to answer the question, politely inform the user that you cannot assist them.\n",
    "Keep the the answers like you are teaching and add a little interaction to the answer, like asking a question or giving a suggestion to the user.\n",
    "Example of a good answer:\n",
    "<|start_header_id|>system<|end_header_id|>\n",
    "Here are some actions a single person can take to help mitigate climate change:\n",
    "    1. Reduce energy consumption by using energy-efficient appliances and turning off lights when not in use.\n",
    "    2. Use public transportation, carpool, bike, or walk instead of driving alone.\n",
    "    3. Reduce, reuse, and recycle to minimize waste.\n",
    "    4. Support renewable energy sources like solar or wind power.\n",
    "I hope these suggestions help you contribute to a more sustainable future! What actions do you think you can take to help mitigate climate change?\n",
    "<|end_header_id|>\n",
    "\n",
    "<|start_header_id|>user<|end_header_id|>\n",
    "Context:\n",
    "{retriever}\n",
    "\n",
    "Question:\n",
    "{user_query}\n",
    "\n",
    "<|start_header_id|>assistant<|end_header_id|>\n",
    "Here are some actions a single person can take to help mitigate climate change:\n",
    "\"\"\""
   ]
  },
  {
   "cell_type": "code",
   "execution_count": 70,
   "id": "d08eff57",
   "metadata": {},
   "outputs": [],
   "source": [
    "model_id = \"meta-llama/llama-4-maverick-17b-128e-instruct-fp8\"\n",
    "parameters = TextChatParameters(\n",
    "    max_tokens = 1024,\n",
    "    temperature = 0\n",
    ")\n",
    "watsonx_llm = ChatWatsonx(\n",
    "    model_id=model_id,\n",
    "    url=url,\n",
    "    apikey=api_key,\n",
    "    project_id=project_id,\n",
    "    params=parameters,\n",
    "    prompt_template=prompt_template\n",
    ")"
   ]
  },
  {
   "cell_type": "code",
   "execution_count": 71,
   "id": "c236e4aa",
   "metadata": {},
   "outputs": [],
   "source": [
    "\n",
    "out = watsonx_llm.invoke(user_query)\n"
   ]
  },
  {
   "cell_type": "code",
   "execution_count": 72,
   "id": "a0a9c25b",
   "metadata": {},
   "outputs": [
    {
     "name": "stdout",
     "output_type": "stream",
     "text": [
      "<|python_start|>actions = [\n",
      "    \"Reduce energy consumption by using energy-efficient appliances and turning off lights, electronics, and devices when not in use\",\n",
      "    \"Conserve water by taking shorter showers and fixing leaks\",\n",
      "    \"Reduce, Reuse, Recycle: minimize single-use plastics, reuse items when possible, and recycle as much as possible\",\n",
      "    \"Use public transportation, walk, or bike when possible\",\n",
      "    \"Eat a plant-based diet, choose locally sourced and seasonal food, and reduce food waste\",\n",
      "    \"Support renewable energy by investing in solar panels or renewable energy credits\",\n",
      "    \"Plant trees and support reforestation efforts\",\n",
      "    \"Reduce air travel or offset carbon emissions from flights\",\n",
      "    \"Support organizations working on climate change mitigation and adaptation efforts\",\n",
      "    \"Educate yourself and others on climate change causes, effects, and solutions\"\n",
      "]\n",
      "\n",
      "def suggest_actions():\n",
      "    return actions\n",
      "\n",
      "suggested_actions = suggest_actions()\n",
      "print(suggested_actions)<|python_end|>\n"
     ]
    }
   ],
   "source": [
    "print(out.content)"
   ]
  },
  {
   "cell_type": "code",
   "execution_count": null,
   "id": "cee53d14",
   "metadata": {},
   "outputs": [],
   "source": []
  }
 ],
 "metadata": {
  "kernelspec": {
   "display_name": "ibm",
   "language": "python",
   "name": "python3"
  },
  "language_info": {
   "codemirror_mode": {
    "name": "ipython",
    "version": 3
   },
   "file_extension": ".py",
   "mimetype": "text/x-python",
   "name": "python",
   "nbconvert_exporter": "python",
   "pygments_lexer": "ipython3",
   "version": "3.12.9"
  }
 },
 "nbformat": 4,
 "nbformat_minor": 5
}
