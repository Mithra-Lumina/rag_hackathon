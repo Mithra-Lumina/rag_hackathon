{
 "cells": [
  {
   "cell_type": "markdown",
   "metadata": {},
   "source": [
    "# RAG Pipeline using LlamaCPP and FAISS"
   ]
  },
  {
   "cell_type": "code",
   "execution_count": 1,
   "metadata": {},
   "outputs": [
    {
     "name": "stderr",
     "output_type": "stream",
     "text": [
      "/opt/homebrew/Caskroom/miniconda/base/envs/ragpipe/lib/python3.12/site-packages/tqdm/auto.py:21: TqdmWarning: IProgress not found. Please update jupyter and ipywidgets. See https://ipywidgets.readthedocs.io/en/stable/user_install.html\n",
      "  from .autonotebook import tqdm as notebook_tqdm\n",
      "[nltk_data] Downloading package punkt to /Users/hubboko/nltk_data...\n",
      "[nltk_data]   Package punkt is already up-to-date!\n"
     ]
    },
    {
     "data": {
      "text/plain": [
       "True"
      ]
     },
     "execution_count": 1,
     "metadata": {},
     "output_type": "execute_result"
    }
   ],
   "source": [
    "import os\n",
    "from unstructured.partition.auto import partition\n",
    "from docx import Document as DocxDocument\n",
    "import fitz\n",
    "from llama_cpp import Llama\n",
    "import faiss\n",
    "import numpy as np\n",
    "from sentence_transformers import SentenceTransformer\n",
    "import pickle\n",
    "import nltk\n",
    "import spacy\n",
    "\n",
    "nltk.download(\"punkt\")"
   ]
  },
  {
   "cell_type": "code",
   "execution_count": 20,
   "metadata": {},
   "outputs": [],
   "source": [
    "def load_document(file_path):\n",
    "    ext = os.path.splitext(file_path)[1].lower()\n",
    "\n",
    "    if ext == \".pdf\":\n",
    "        return load_pdf(file_path)\n",
    "    elif ext == \".docx\":\n",
    "        return load_docx(file_path)\n",
    "    elif ext == \".txt\" or ext == \".md\":\n",
    "        return load_txt(file_path)\n",
    "    else:\n",
    "        raise ValueError(f\"Unsupported file type: {ext}\")\n",
    "\n",
    "def load_pdf(path):\n",
    "    doc = fitz.open(path)\n",
    "    texts = [page.get_text() for page in doc]\n",
    "    return [t.strip() for t in texts if t.strip()]\n",
    "\n",
    "def load_docx(path):\n",
    "    doc = DocxDocument(path)\n",
    "    paragraphs = []\n",
    "    for p in doc.paragraphs:\n",
    "        if p.text and p.text.strip():\n",
    "            paragraphs.append(p.text.strip())\n",
    "    return paragraphs\n",
    "\n",
    "def load_txt(path):\n",
    "    with open(path, 'r', encoding='utf-8') as f:\n",
    "        text = f.read()\n",
    "    return [para.strip() for para in text.split('\\n\\n') if para.strip()]\n",
    "\n",
    "def load_fallback_unstructured(path):\n",
    "    elements = partition(filename=path)\n",
    "    return [str(el).strip() for el in elements if str(el).strip()]"
   ]
  },
  {
   "cell_type": "code",
   "execution_count": 21,
   "metadata": {},
   "outputs": [],
   "source": [
    "try:\n",
    "    nlp = spacy.load(\"en_core_web_sm\")\n",
    "except:\n",
    "    from spacy.cli import download\n",
    "    download(\"en_core_web_sm\")\n",
    "    nlp = spacy.load(\"en_core_web_sm\")\n",
    "def spacy_semantic_chunk(text, max_tokens=100, overlap=1):\n",
    "    doc = nlp(text)\n",
    "    sents = list(doc.sents)\n",
    "    chunks = []\n",
    "    start = 0\n",
    "    \n",
    "    while start < len(sents):\n",
    "        chunk_sents = sents[start:start+5]\n",
    "        chunk = \" \".join(sent.text for sent in chunk_sents)\n",
    "        chunks.append(chunk.strip())\n",
    "        start += 5 - overlap  # Move forward with overlap\n",
    "\n",
    "    return chunks\n"
   ]
  },
  {
   "cell_type": "code",
   "execution_count": 22,
   "metadata": {},
   "outputs": [],
   "source": [
    "EMBED_MODEL_NAME = \"BAAI/bge-m3\"\n",
    "SUPPORTED_EXTS = [\".pdf\", \".docx\", \".txt\", \".md\"]\n"
   ]
  },
  {
   "cell_type": "code",
   "execution_count": null,
   "metadata": {},
   "outputs": [
    {
     "name": "stdout",
     "output_type": "stream",
     "text": [
      "Skipping unsupported file: .DS_Store\n",
      "Indexed 1 chunks from dummy.docx\n"
     ]
    }
   ],
   "source": [
    "def index_documents_in_folder(folder_path, index_path=\"faiss_index\", store_path=\"doc_store.pkl\"):\n",
    "    model = SentenceTransformer(EMBED_MODEL_NAME)\n",
    "    all_chunks = []\n",
    "    all_embeddings = []\n",
    "\n",
    "    for filename in os.listdir(folder_path):\n",
    "        ext = os.path.splitext(filename)[1].lower()\n",
    "        if ext not in SUPPORTED_EXTS:\n",
    "            print(f\"Skipping unsupported file: {filename}\")\n",
    "            continue\n",
    "\n",
    "        file_path = os.path.join(folder_path, filename)\n",
    "        try:\n",
    "            text_blocks = load_document(file_path)\n",
    "            for block in text_blocks:\n",
    "                chunks = spacy_semantic_chunk(block)\n",
    "                embeddings = model.encode(chunks)\n",
    "                all_chunks.extend(chunks)\n",
    "                all_embeddings.append(embeddings)\n",
    "        except Exception as e:\n",
    "            print(f\"Error processing {filename}: {e}\")\n",
    "\n",
    "    if not all_embeddings:\n",
    "        raise RuntimeError(\"No documents were indexed.\")\n",
    "    stacked_embeddings = np.vstack(all_embeddings)\n",
    "\n",
    "    index = faiss.IndexFlatL2(stacked_embeddings.shape[1])\n",
    "    index.add(stacked_embeddings)\n",
    "    faiss.write_index(index, index_path)\n",
    "\n",
    "    with open(store_path, \"wb\") as f:\n",
    "        pickle.dump(all_chunks, f)\n",
    "\n",
    "if __name__ == \"__main__\":\n",
    "    index_documents_in_folder(\"./data/dummy\")\n"
   ]
  },
  {
   "cell_type": "code",
   "execution_count": 31,
   "metadata": {},
   "outputs": [
    {
     "name": "stderr",
     "output_type": "stream",
     "text": [
      "llama_context: n_ctx_per_seq (8192) < n_ctx_train (131072) -- the full capacity of the model will not be utilized\n",
      "ggml_metal_init: skipping kernel_get_rows_bf16                     (not supported)\n",
      "ggml_metal_init: skipping kernel_mul_mv_bf16_f32                   (not supported)\n",
      "ggml_metal_init: skipping kernel_mul_mv_bf16_f32_1row              (not supported)\n",
      "ggml_metal_init: skipping kernel_mul_mv_bf16_f32_l4                (not supported)\n",
      "ggml_metal_init: skipping kernel_mul_mv_bf16_bf16                  (not supported)\n",
      "ggml_metal_init: skipping kernel_mul_mv_id_bf16_f32                (not supported)\n",
      "ggml_metal_init: skipping kernel_mul_mm_bf16_f32                   (not supported)\n",
      "ggml_metal_init: skipping kernel_mul_mm_id_bf16_f32                (not supported)\n",
      "ggml_metal_init: skipping kernel_flash_attn_ext_bf16_h64           (not supported)\n",
      "ggml_metal_init: skipping kernel_flash_attn_ext_bf16_h80           (not supported)\n",
      "ggml_metal_init: skipping kernel_flash_attn_ext_bf16_h96           (not supported)\n",
      "ggml_metal_init: skipping kernel_flash_attn_ext_bf16_h112          (not supported)\n",
      "ggml_metal_init: skipping kernel_flash_attn_ext_bf16_h128          (not supported)\n",
      "ggml_metal_init: skipping kernel_flash_attn_ext_bf16_h192          (not supported)\n",
      "ggml_metal_init: skipping kernel_flash_attn_ext_bf16_hk192_hv128   (not supported)\n",
      "ggml_metal_init: skipping kernel_flash_attn_ext_bf16_h256          (not supported)\n",
      "ggml_metal_init: skipping kernel_flash_attn_ext_bf16_hk576_hv512   (not supported)\n",
      "ggml_metal_init: skipping kernel_flash_attn_ext_vec_bf16_h96       (not supported)\n",
      "ggml_metal_init: skipping kernel_flash_attn_ext_vec_bf16_h128      (not supported)\n",
      "ggml_metal_init: skipping kernel_flash_attn_ext_vec_bf16_h192      (not supported)\n",
      "ggml_metal_init: skipping kernel_flash_attn_ext_vec_bf16_hk192_hv128 (not supported)\n",
      "ggml_metal_init: skipping kernel_flash_attn_ext_vec_bf16_h256      (not supported)\n",
      "ggml_metal_init: skipping kernel_flash_attn_ext_vec_bf16_hk576_hv512 (not supported)\n",
      "ggml_metal_init: skipping kernel_cpy_f32_bf16                      (not supported)\n",
      "ggml_metal_init: skipping kernel_cpy_bf16_f32                      (not supported)\n",
      "ggml_metal_init: skipping kernel_cpy_bf16_bf16                     (not supported)\n"
     ]
    },
    {
     "name": "stdout",
     "output_type": "stream",
     "text": [
      "\n",
      "Answer: Sorry, I cannot assist you. The provided context does not contain any information that could be used to answer a question.\n"
     ]
    }
   ],
   "source": [
    "\n",
    "INDEX_PATH = \"faiss_index\"\n",
    "STORE_PATH = \"doc_store.pkl\"\n",
    "LLAMA_PATH = \"/Users/hubboko/Documents/rag_practice_local_model_llama/llama.cpp/models/llama3.1/Defne-llama3.1-8B.Q5_K_M.gguf\"\n",
    "\n",
    "embedder = SentenceTransformer(EMBED_MODEL_NAME)\n",
    "index = faiss.read_index(INDEX_PATH)\n",
    "with open(STORE_PATH, \"rb\") as f:\n",
    "    doc_chunks = pickle.load(f)\n",
    "import contextlib\n",
    "import sys\n",
    "@contextlib.contextmanager\n",
    "def suppress_stderr():\n",
    "    with open(os.devnull, 'w') as fnull:\n",
    "        stderr_original = sys.stderr\n",
    "        sys.stderr = fnull\n",
    "        try:\n",
    "            yield\n",
    "        finally:\n",
    "            sys.stderr = stderr_original\n",
    "llm = Llama(\n",
    "    model_path=LLAMA_PATH,\n",
    "    n_ctx=8192,\n",
    "    n_threads=12,\n",
    "    n_gpu_layers=16,\n",
    "    verbose=False\n",
    ")\n",
    "\n",
    "def rag_query(user_query, top_k=5):\n",
    "    query_vec = embedder.encode([user_query])\n",
    "    D, I = index.search(np.array(query_vec), top_k)\n",
    "\n",
    "    context = \"\\n\".join(doc_chunks[i] for i in I[0])\n",
    "\n",
    "    prompt = f\"\"\"<|begin_of_text|><|start_header_id|>system<|end_header_id|>\n",
    "    You are a helpful and concise AI assistant embedded in a web application. Use the provided context to answer each user question as accurately and briefly as possible. If the context does not contain the answer, respond with: \"Sorry, I cannot assist you.\" Always return only the single most relevant answer.\n",
    "    Answer the queries with the same user's input language no matter the context's language.\n",
    "    <|start_header_id|>user<|end_header_id|>\n",
    "    Context:\n",
    "    {context}\n",
    "\n",
    "    Question:\n",
    "    {user_query}\n",
    "\n",
    "    <|start_header_id|>assistant<|end_header_id|>\n",
    "    \"\"\"\n",
    "\n",
    "    output = llm(\n",
    "        prompt,\n",
    "        max_tokens=250,\n",
    "        temperature=0.0000000000000001,\n",
    "        top_p=0.9,        \n",
    "        top_k=5,         \n",
    "        stop=[\"Q:\", \"\\n\"],\n",
    "        repeat_penalty=1.1\n",
    "    )\n",
    "    return output['choices'][0]['text'].strip()\n",
    "\n",
    "if __name__ == \"__main__\":\n",
    "    question = input(\"Ask a question: \")\n",
    "    answer = rag_query(question)\n",
    "    print(\"\\nAnswer:\", answer)"
   ]
  },
  {
   "cell_type": "code",
   "execution_count": null,
   "metadata": {},
   "outputs": [],
   "source": []
  }
 ],
 "metadata": {
  "kernelspec": {
   "display_name": "ragpipe",
   "language": "python",
   "name": "python3"
  },
  "language_info": {
   "codemirror_mode": {
    "name": "ipython",
    "version": 3
   },
   "file_extension": ".py",
   "mimetype": "text/x-python",
   "name": "python",
   "nbconvert_exporter": "python",
   "pygments_lexer": "ipython3",
   "version": "3.12.9"
  }
 },
 "nbformat": 4,
 "nbformat_minor": 2
}
